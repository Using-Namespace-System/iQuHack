{
 "cells": [
  {
   "cell_type": "markdown",
   "metadata": {},
   "source": [
    "# Workshop Preperation for Classiq's Challenge - Quantum Arithmetic"
   ]
  },
  {
   "cell_type": "markdown",
   "metadata": {},
   "source": [
    "Welcome to the Classiq challenge of the 2024 MIT IQuHack hackathon!\n",
    "This Jupyter notebook is a tutorial workshop that should prepare you for the challenge itself.\n",
    "\n",
    "\n",
    "Additional resources you should use are\n",
    "- The IDE of the classiq platform at [platform.classiq.io](platform.classiq.io)\n",
    "- The [community Slack of Classiq](https://short.classiq.io/join-slack) - Classiq's team will answer any question you have over there, including implementation questions\n",
    "- [Classiq's documentation](https://docs.classiq.io/latest/user-guide/platform/) with the dedicated [Python SDK explanations](https://docs.classiq.io/latest/user-guide/platform/qmod/python/functions/)\n",
    "\n",
    "Good luck!"
   ]
  },
  {
   "cell_type": "markdown",
   "metadata": {},
   "source": [
    "![MITClassiq](data:image/png;base64,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)"
   ]
  },
  {
   "cell_type": "markdown",
   "metadata": {},
   "source": [
    "## Setting The Scene"
   ]
  },
  {
   "cell_type": "markdown",
   "metadata": {},
   "source": [
    "Install the Classiq SDK package:"
   ]
  },
  {
   "cell_type": "code",
   "execution_count": null,
   "metadata": {},
   "outputs": [],
   "source": [
    "!pip install -U classiq"
   ]
  },
  {
   "cell_type": "markdown",
   "metadata": {},
   "source": [
    "You need to authenticate your device in order to use Classiq's backend synthesis engine and IDE. Make sure to register to the platform at [platform.classiq.io](platform.classiq.io) before you run the next cell:"
   ]
  },
  {
   "cell_type": "code",
   "execution_count": 1,
   "metadata": {},
   "outputs": [
    {
     "name": "stderr",
     "output_type": "stream",
     "text": [
      "/home/cuquantum/conda/envs/cuquantum-23.10/lib/python3.10/site-packages/classiq/_internals/authentication/token_manager.py:82: UserWarning: Device is already registered.\n",
      "Generating a new refresh token should only be done if the current refresh token is compromised.\n",
      "To do so, set the overwrite parameter to true\n",
      "  warnings.warn(\n"
     ]
    }
   ],
   "source": [
    "import classiq\n",
    "classiq.authenticate()"
   ]
  },
  {
   "cell_type": "code",
   "execution_count": 5,
   "metadata": {},
   "outputs": [],
   "source": [
    "from classiq import *"
   ]
  },
  {
   "cell_type": "markdown",
   "metadata": {},
   "source": [
    "## A Warm Up"
   ]
  },
  {
   "cell_type": "markdown",
   "metadata": {},
   "source": [
    "### First Example"
   ]
  },
  {
   "cell_type": "markdown",
   "metadata": {},
   "source": [
    "Write a function that prepares the minus state $\\ket{-}=\\frac{1}{\\sqrt2}(\\ket{0}-\\ket{1})$, assuming it recives the qubit $\\ket{x}=\\ket{0}$ (hint: \n",
    "\n",
    "<details>\n",
    "<summary>\n",
    "HINT\n",
    "</summary>\n",
    "\n",
    "Use `H(x)`,`X(x)`\n",
    "</details>"
   ]
  },
  {
   "cell_type": "code",
   "execution_count": 152,
   "metadata": {},
   "outputs": [],
   "source": [
    "@QFunc\n",
    "def prepare_minus_state(x:QBit):\n",
    "    X(x)\n",
    "    H(x)\n",
    "    "
   ]
  },
  {
   "cell_type": "markdown",
   "metadata": {},
   "source": [
    "Now we will test our code:"
   ]
  },
  {
   "cell_type": "code",
   "execution_count": 153,
   "metadata": {},
   "outputs": [],
   "source": [
    "@QFunc\n",
    "def main(x: Output[QBit]):\n",
    "    allocate(1,x)\n",
    "    prepare_minus_state(x)"
   ]
  },
  {
   "cell_type": "code",
   "execution_count": 154,
   "metadata": {},
   "outputs": [],
   "source": [
    "quantum_model = create_model(main)\n",
    "quantum_program = synthesize(quantum_model)"
   ]
  },
  {
   "cell_type": "code",
   "execution_count": 155,
   "metadata": {},
   "outputs": [
    {
     "name": "stdout",
     "output_type": "stream",
     "text": [
      "Opening: https://platform.classiq.io/circuit/01850cd4-bd8a-43bf-a887-6eea76429ed2?version=0.36.1\n"
     ]
    }
   ],
   "source": [
    "show(quantum_program)"
   ]
  },
  {
   "cell_type": "code",
   "execution_count": 47,
   "metadata": {},
   "outputs": [
    {
     "data": {
      "image/png": "[encoded data removed]",
      "text/plain": [
       "<Figure size 519.897x117.056 with 1 Axes>"
      ]
     },
     "execution_count": 47,
     "metadata": {},
     "output_type": "execute_result"
    }
   ],
   "source": [
    "from qiskit import QuantumCircuit, transpile\n",
    "from qiskit import Aer\n",
    "\n",
    "circuit = QuantumCircuit.from_qasm_file('main_prepare_minus_state.qasm')\n",
    "\n",
    "circuit.draw('mpl')"
   ]
  },
  {
   "cell_type": "code",
   "execution_count": 48,
   "metadata": {},
   "outputs": [
    {
     "data": {
      "image/png": "[encoded data removed]",
      "text/plain": [
       "<Figure size 413.165x200.667 with 1 Axes>"
      ]
     },
     "execution_count": 48,
     "metadata": {},
     "output_type": "execute_result"
    }
   ],
   "source": [
    "simulator = Aer.get_backend('aer_simulator_statevector')\n",
    "\n",
    "circuit.measure_all()\n",
    "circuit = transpile(circuit, simulator)\n",
    "\n",
    "circuit.draw('mpl')\n"
   ]
  },
  {
   "cell_type": "code",
   "execution_count": 51,
   "metadata": {},
   "outputs": [
    {
     "data": {
      "text/plain": [
       "['__and__',\n",
       " '__class__',\n",
       " '__delattr__',\n",
       " '__dict__',\n",
       " '__dir__',\n",
       " '__doc__',\n",
       " '__eq__',\n",
       " '__format__',\n",
       " '__ge__',\n",
       " '__getattribute__',\n",
       " '__getitem__',\n",
       " '__gt__',\n",
       " '__hash__',\n",
       " '__iand__',\n",
       " '__init__',\n",
       " '__init_subclass__',\n",
       " '__ixor__',\n",
       " '__le__',\n",
       " '__len__',\n",
       " '__lt__',\n",
       " '__module__',\n",
       " '__ne__',\n",
       " '__new__',\n",
       " '__reduce__',\n",
       " '__reduce_ex__',\n",
       " '__repr__',\n",
       " '__setattr__',\n",
       " '__sizeof__',\n",
       " '__slotnames__',\n",
       " '__str__',\n",
       " '__subclasshook__',\n",
       " '__weakref__',\n",
       " '__xor__',\n",
       " '_ancillas',\n",
       " '_append',\n",
       " '_base_name',\n",
       " '_calibrations',\n",
       " '_check_dups',\n",
       " '_clbit_indices',\n",
       " '_clbit_write_latency',\n",
       " '_clbits',\n",
       " '_conditional_latency',\n",
       " '_control_flow_scopes',\n",
       " '_create_creg',\n",
       " '_create_qreg',\n",
       " '_data',\n",
       " '_global_phase',\n",
       " '_increment_instances',\n",
       " '_layout',\n",
       " '_metadata',\n",
       " '_name_update',\n",
       " '_op_start_times',\n",
       " '_parameter_table',\n",
       " '_parameters',\n",
       " '_peek_previous_instruction_in_scope',\n",
       " '_pop_previous_instruction_in_scope',\n",
       " '_pop_scope',\n",
       " '_push_scope',\n",
       " '_qubit_indices',\n",
       " '_qubits',\n",
       " '_resolve_classical_resource',\n",
       " '_unroll_param_dict',\n",
       " '_unsorted_parameters',\n",
       " '_update_parameter_table',\n",
       " '_update_parameter_table_on_instruction_removal',\n",
       " '_validate_expr',\n",
       " 'add_bits',\n",
       " 'add_calibration',\n",
       " 'add_register',\n",
       " 'ancillas',\n",
       " 'append',\n",
       " 'assign_parameters',\n",
       " 'barrier',\n",
       " 'bind_parameters',\n",
       " 'break_loop',\n",
       " 'calibrations',\n",
       " 'cast',\n",
       " 'cbit_argument_conversion',\n",
       " 'ccx',\n",
       " 'ccz',\n",
       " 'ch',\n",
       " 'clbits',\n",
       " 'clear',\n",
       " 'cls_instances',\n",
       " 'cls_prefix',\n",
       " 'cnot',\n",
       " 'compose',\n",
       " 'continue_loop',\n",
       " 'control',\n",
       " 'copy',\n",
       " 'copy_empty_like',\n",
       " 'count_ops',\n",
       " 'cp',\n",
       " 'cregs',\n",
       " 'crx',\n",
       " 'cry',\n",
       " 'crz',\n",
       " 'cs',\n",
       " 'csdg',\n",
       " 'cswap',\n",
       " 'csx',\n",
       " 'cu',\n",
       " 'cx',\n",
       " 'cy',\n",
       " 'cz',\n",
       " 'data',\n",
       " 'dcx',\n",
       " 'decompose',\n",
       " 'delay',\n",
       " 'depth',\n",
       " 'diagonal',\n",
       " 'draw',\n",
       " 'duration',\n",
       " 'ecr',\n",
       " 'extension_lib',\n",
       " 'find_bit',\n",
       " 'for_loop',\n",
       " 'fredkin',\n",
       " 'from_instructions',\n",
       " 'from_qasm_file',\n",
       " 'from_qasm_str',\n",
       " 'get_instructions',\n",
       " 'global_phase',\n",
       " 'h',\n",
       " 'hamiltonian',\n",
       " 'has_calibration_for',\n",
       " 'has_register',\n",
       " 'header',\n",
       " 'i',\n",
       " 'id',\n",
       " 'if_else',\n",
       " 'if_test',\n",
       " 'initialize',\n",
       " 'instances',\n",
       " 'inverse',\n",
       " 'iso',\n",
       " 'isometry',\n",
       " 'iswap',\n",
       " 'layout',\n",
       " 'mcp',\n",
       " 'mcrx',\n",
       " 'mcry',\n",
       " 'mcrz',\n",
       " 'mct',\n",
       " 'mcx',\n",
       " 'measure',\n",
       " 'measure_active',\n",
       " 'measure_all',\n",
       " 'metadata',\n",
       " 'ms',\n",
       " 'name',\n",
       " 'num_ancillas',\n",
       " 'num_clbits',\n",
       " 'num_connected_components',\n",
       " 'num_nonlocal_gates',\n",
       " 'num_parameters',\n",
       " 'num_qubits',\n",
       " 'num_tensor_factors',\n",
       " 'num_unitary_factors',\n",
       " 'op_start_times',\n",
       " 'p',\n",
       " 'parameters',\n",
       " 'pauli',\n",
       " 'power',\n",
       " 'prefix',\n",
       " 'prepare_state',\n",
       " 'qasm',\n",
       " 'qbit_argument_conversion',\n",
       " 'qregs',\n",
       " 'qubit_duration',\n",
       " 'qubit_start_time',\n",
       " 'qubit_stop_time',\n",
       " 'qubits',\n",
       " 'r',\n",
       " 'rcccx',\n",
       " 'rccx',\n",
       " 'remove_final_measurements',\n",
       " 'repeat',\n",
       " 'reset',\n",
       " 'reverse_bits',\n",
       " 'reverse_ops',\n",
       " 'rv',\n",
       " 'rx',\n",
       " 'rxx',\n",
       " 'ry',\n",
       " 'ryy',\n",
       " 'rz',\n",
       " 'rzx',\n",
       " 'rzz',\n",
       " 's',\n",
       " 'save_amplitudes',\n",
       " 'save_amplitudes_squared',\n",
       " 'save_clifford',\n",
       " 'save_density_matrix',\n",
       " 'save_expectation_value',\n",
       " 'save_expectation_value_variance',\n",
       " 'save_matrix_product_state',\n",
       " 'save_probabilities',\n",
       " 'save_probabilities_dict',\n",
       " 'save_stabilizer',\n",
       " 'save_state',\n",
       " 'save_state_simple',\n",
       " 'save_statevector',\n",
       " 'save_statevector_dict',\n",
       " 'save_superop',\n",
       " 'save_unitary',\n",
       " 'sdg',\n",
       " 'set_density_matrix',\n",
       " 'set_matrix_product_state',\n",
       " 'set_stabilizer',\n",
       " 'set_state_simple',\n",
       " 'set_statevector',\n",
       " 'set_superop',\n",
       " 'set_unitary',\n",
       " 'size',\n",
       " 'snapshot',\n",
       " 'squ',\n",
       " 'swap',\n",
       " 'switch',\n",
       " 'sx',\n",
       " 'sxdg',\n",
       " 't',\n",
       " 'tdg',\n",
       " 'tensor',\n",
       " 'to_gate',\n",
       " 'to_instruction',\n",
       " 'toffoli',\n",
       " 'u',\n",
       " 'uc',\n",
       " 'ucrx',\n",
       " 'ucry',\n",
       " 'ucrz',\n",
       " 'unit',\n",
       " 'unitary',\n",
       " 'while_loop',\n",
       " 'width',\n",
       " 'x',\n",
       " 'y',\n",
       " 'z']"
      ]
     },
     "execution_count": 51,
     "metadata": {},
     "output_type": "execute_result"
    }
   ],
   "source": [
    "dir(circuit)"
   ]
  },
  {
   "cell_type": "code",
   "execution_count": 54,
   "metadata": {},
   "outputs": [
    {
     "data": {
      "text/plain": [
       "<bound method snapshot of <qiskit.circuit.quantumcircuit.QuantumCircuit object at 0x7fe349948d30>>"
      ]
     },
     "execution_count": 54,
     "metadata": {},
     "output_type": "execute_result"
    }
   ],
   "source": [
    "circuit"
   ]
  },
  {
   "cell_type": "code",
   "execution_count": 46,
   "metadata": {},
   "outputs": [
    {
     "name": "stdout",
     "output_type": "stream",
     "text": [
      "{'0': 474, '1': 550}\n",
      "backend: cusvaer_simulator_statevector\n",
      "Result(backend_name='cusvaer_simulator_statevector', backend_version='23.10.0', qobj_id='07021865-34f6-4102-bec8-6b5490743b15', job_id='b326dba9-5d69-43d1-aa9e-252e773f285e', success=True, results=[ExperimentResult(shots=1024, success=True, meas_level=2, data=ExperimentResultData(counts={'0x0': 474, '0x1': 550}), header=QobjExperimentHeader(qubit_labels=[['q', 0]], n_qubits=1, qreg_sizes=[['q', 1]], clbit_labels=[['meas', 0]], memory_slots=1, creg_sizes=[['meas', 1]], name='circuit-287', global_phase=0.0, metadata={}), status=DONE, name='circuit-287', seed_simulator=1311719697, time_taken=0.018335819244384766, metadata={})], date=2024-02-03T20:21:15.866039, status=COMPLETED, header=QobjHeader(backend_name='cusvaer_simulator_statevector', backend_version='23.10.0'), mpi_rank=0, num_mpi_processes=1, time_taken=0.02173471450805664, cusvaer_enabled=True)\n"
     ]
    }
   ],
   "source": [
    "\n",
    "\n",
    "job = simulator.run(circuit)\n",
    "result = job.result()\n",
    "\n",
    "print(result.get_counts())\n",
    "print(f'backend: {result.backend_name}')\n",
    "print(result)"
   ]
  },
  {
   "cell_type": "code",
   "execution_count": 43,
   "metadata": {},
   "outputs": [
    {
     "data": {
      "image/png": "[encoded data removed]",
      "text/plain": [
       "<Figure size 329.554x200.667 with 1 Axes>"
      ]
     },
     "execution_count": 43,
     "metadata": {},
     "output_type": "execute_result"
    }
   ],
   "source": [
    "from math import *\n",
    "circuit = QuantumCircuit(1)\n",
    "initial_state = [sqrt(1),0]\n",
    "circuit.initialize(initial_state, 0)\n",
    "simulator = Aer.get_backend('aer_simulator_statevector')\n",
    "\n",
    "circuit.measure_all()\n",
    "circuit = transpile(circuit, simulator)\n",
    "\n",
    "circuit.draw('mpl')"
   ]
  },
  {
   "cell_type": "code",
   "execution_count": 35,
   "metadata": {},
   "outputs": [
    {
     "data": {
      "image/png": "[encoded data removed]",
      "text/plain": [
       "<Figure size 800x500 with 2 Axes>"
      ]
     },
     "execution_count": 35,
     "metadata": {},
     "output_type": "execute_result"
    }
   ],
   "source": [
    "from qiskit.quantum_info import Statevector\n",
    "sv=Statevector([0.5/sqrt(2),1.5/sqrt(2)])\n",
    "sv.draw(output='hinton')"
   ]
  },
  {
   "cell_type": "code",
   "execution_count": 17,
   "metadata": {},
   "outputs": [
    {
     "name": "stdout",
     "output_type": "stream",
     "text": [
      "{'1': 506, '0': 518}\n",
      "backend: cusvaer_simulator_statevector\n"
     ]
    }
   ],
   "source": [
    "job = simulator.run(circuit)\n",
    "result = job.result()\n",
    "\n",
    "print(result.get_counts())\n",
    "print(f'backend: {result.backend_name}')"
   ]
  },
  {
   "cell_type": "markdown",
   "metadata": {},
   "source": [
    "![image.png](attachment:image.png)"
   ]
  },
  {
   "cell_type": "markdown",
   "metadata": {},
   "source": [
    "### Uniform Superposition"
   ]
  },
  {
   "cell_type": "markdown",
   "metadata": {},
   "source": [
    "Let's continue warming up with creating a function that receives a quantum register and creates a uniform superposition for all qubits within this array. You should use the function `apply_to_all(gate_operand=, target=)`:"
   ]
  },
  {
   "cell_type": "code",
   "execution_count": null,
   "metadata": {},
   "outputs": [],
   "source": [
    "@QFunc\n",
    "def create_initial_state(reg: QArray[QBit]):\n",
    "    pass #TODO delete pass\n",
    "    #TODO use the function apply_to_all in order create a uniform superposition"
   ]
  },
  {
   "cell_type": "markdown",
   "metadata": {},
   "source": [
    "Test your function by creating a new main function, synthesizing and viewing the circuit:"
   ]
  },
  {
   "cell_type": "code",
   "execution_count": null,
   "metadata": {},
   "outputs": [],
   "source": [
    "@QFunc\n",
    "def main(): #TODO fill in the correct declaration here, what variables this model should output?\n",
    "    pass #TODO delete pass\n",
    "    #TODO allocate reg with a few qubits\n",
    "    create_initial_state(reg)"
   ]
  },
  {
   "cell_type": "code",
   "execution_count": null,
   "metadata": {},
   "outputs": [],
   "source": [
    "qprog = synthesize(create_model(main))\n",
    "#TODO show the quantum program"
   ]
  },
  {
   "cell_type": "markdown",
   "metadata": {},
   "source": [
    "## Guidelines for High-Level Functional Design with Classiq"
   ]
  },
  {
   "cell_type": "markdown",
   "metadata": {},
   "source": [
    "Some basic explanations about the high-level functional design with Classiq:\n",
    "\n",
    "* There should always be a main (`def main(...)`) function - the model that captures your algorithm is described there\n",
    "\n",
    "* The model is always generated out of the main function \n",
    "\n",
    "* The model is sent to the synthesis engine (compiler) that return a quantum program which contains the quantum circuit"
   ]
  },
  {
   "cell_type": "markdown",
   "metadata": {},
   "source": [
    "Some basic guidelines about the modeling language (QMOD):\n",
    "\n",
    "1. Every quantum variable should be declared, either as an argument of a function e.g. `def prepare_minus(x: QBit)` or as a local variable within the function itself with `x = QBit('x')`\n",
    "\n",
    "2. Some quantum variables need to be initialized with the `allocate` function. This is required in 2 cases:\n",
    "* A variable is an argument of a function with the declaration `Output` like `def main(x: Output[QInt])`\n",
    "* A variable that was declared within a function like `a = QInt('a')`\n",
    "\n",
    "3. For the `main` function, you will always use `Output` for all variables.\n",
    "\n",
    "4. Every function you use with the QMOD language should have the decorator `@QFunc` before it"
   ]
  },
  {
   "cell_type": "markdown",
   "metadata": {},
   "source": [
    "Important tip!\n",
    "\n",
    "You can see all the declarations of the functions with what are their input arguments in the `functions.py` file within the classiq package (or by just right clicking a function and pressing `Go To Definition`)"
   ]
  },
  {
   "cell_type": "markdown",
   "metadata": {},
   "source": [
    "## Tutorial - Arithmetic Operations with Classiq"
   ]
  },
  {
   "cell_type": "markdown",
   "metadata": {},
   "source": [
    "One of the key advantages of Classiq is it's simplistic and powerful compiler for quantum arithmetic. Let's see an example:"
   ]
  },
  {
   "cell_type": "code",
   "execution_count": 55,
   "metadata": {},
   "outputs": [],
   "source": [
    "num_qubits = 4\n",
    "fraction_digits = 0 \n",
    "is_signed = True\n",
    "\n",
    "@QFunc\n",
    "def main(x: Output[QNum], y: Output[QNum]):\n",
    "    allocate_num(num_qubits=num_qubits, is_signed=is_signed, fraction_digits=fraction_digits, out=x)\n",
    "    hadamard_transform(x)\n",
    "    y|= x**2 + 1\n",
    "\n",
    "qmod = create_model(main)"
   ]
  },
  {
   "cell_type": "markdown",
   "metadata": {},
   "source": [
    "The `allocate_num` function initializes a quantum variable that represent numbers. By default, it is initialized to the $\\ket{0}$ state. Then the `hadmard_transform` creates a superposition of all possible states in the domain $[-2^3,2^3-1]$. Finally, the arithmetic operation creates the entangled superposition of states:\n",
    "$\\begin{equation}\n",
    "\\sum_{x =-2^3}^{2^3-1}\\ket{x}\\ket{x^2+1}.\n",
    "\\end{equation}$\n",
    "\n",
    "The `qmod` variable is a string that captures the algorithm we have just created in a JSON format. Now, what we want is to synthesize (compile) in order to receive a concrete quantum program that contains the quantum circuit implementation."
   ]
  },
  {
   "cell_type": "code",
   "execution_count": 56,
   "metadata": {},
   "outputs": [],
   "source": [
    "qprog = synthesize(qmod)"
   ]
  },
  {
   "cell_type": "markdown",
   "metadata": {},
   "source": [
    "And in order to view it:"
   ]
  },
  {
   "cell_type": "code",
   "execution_count": 57,
   "metadata": {},
   "outputs": [
    {
     "name": "stdout",
     "output_type": "stream",
     "text": [
      "Opening: https://platform.classiq.io/circuit/f1604603-afc2-4d66-872d-1888f3fcb084?version=0.36.1\n"
     ]
    }
   ],
   "source": [
    "show(qprog)"
   ]
  },
  {
   "cell_type": "markdown",
   "metadata": {},
   "source": [
    "## Advanced Arithmetics"
   ]
  },
  {
   "cell_type": "markdown",
   "metadata": {},
   "source": [
    "Now let's create a general linear function with Classiq: $y= ax+b$ where $a,b$ are classical integer parameters and $x,y$ is a quantum states representing integers:"
   ]
  },
  {
   "cell_type": "code",
   "execution_count": 143,
   "metadata": {},
   "outputs": [],
   "source": [
    "@QFunc\n",
    "def linear_func(a:QParam[int],b: QParam[int], x:Input[QNum], y: Output[QNum]):\n",
    "    y |= a*x+b"
   ]
  },
  {
   "cell_type": "code",
   "execution_count": 144,
   "metadata": {},
   "outputs": [
    {
     "ename": "ValidationError",
     "evalue": "1 validation error for Model\n__root__\n  Handle 'y' was errored with \"Trying to access handle 'y' as output but it is in incorrect state. Trying to access handle 'y' as input but it is in incorrect state. Trying to access handle 'y' as output but it is in incorrect state\"\nIf you need further assistance, please reach out on our Community Slack channel at: https://short.classiq.io/join-slack\nIf the error persists feel free to open a ticket at: https://short.classiq.io/support (type=value_error.classiqvalue; _raw_message=Handle 'y' was errored with \"Trying to access handle 'y' as output but it is in incorrect state. Trying to access handle 'y' as input but it is in incorrect state. Trying to access handle 'y' as output but it is in incorrect state\")",
     "output_type": "error",
     "traceback": [
      "\u001b[0;31m---------------------------------------------------------------------------\u001b[0m",
      "\u001b[0;31mValidationError\u001b[0m                           Traceback (most recent call last)",
      "Cell \u001b[0;32mIn[144], line 13\u001b[0m\n\u001b[1;32m     10\u001b[0m     linear_func(a,b,x,y)\n\u001b[1;32m     11\u001b[0m     linear_func(a,b,y,y)\n\u001b[0;32m---> 13\u001b[0m qmod \u001b[38;5;241m=\u001b[39m \u001b[43mcreate_model\u001b[49m\u001b[43m(\u001b[49m\u001b[43mmain\u001b[49m\u001b[43m)\u001b[49m\n",
      "File \u001b[0;32m~/conda/envs/cuquantum-23.10/lib/python3.10/site-packages/classiq/qmod/quantum_function.py:33\u001b[0m, in \u001b[0;36mcreate_model\u001b[0;34m(entry_point, constraints, execution_preferences, preferences)\u001b[0m\n\u001b[1;32m     27\u001b[0m \u001b[38;5;28;01mdef\u001b[39;00m \u001b[38;5;21mcreate_model\u001b[39m(\n\u001b[1;32m     28\u001b[0m     entry_point: \u001b[38;5;124m\"\u001b[39m\u001b[38;5;124mQFunc\u001b[39m\u001b[38;5;124m\"\u001b[39m,\n\u001b[1;32m     29\u001b[0m     constraints: Optional[Constraints] \u001b[38;5;241m=\u001b[39m \u001b[38;5;28;01mNone\u001b[39;00m,\n\u001b[1;32m     30\u001b[0m     execution_preferences: Optional[ExecutionPreferences] \u001b[38;5;241m=\u001b[39m \u001b[38;5;28;01mNone\u001b[39;00m,\n\u001b[1;32m     31\u001b[0m     preferences: Optional[Preferences] \u001b[38;5;241m=\u001b[39m \u001b[38;5;28;01mNone\u001b[39;00m,\n\u001b[1;32m     32\u001b[0m ) \u001b[38;5;241m-\u001b[39m\u001b[38;5;241m>\u001b[39m SerializedModel:\n\u001b[0;32m---> 33\u001b[0m     \u001b[38;5;28;01mreturn\u001b[39;00m \u001b[43mentry_point\u001b[49m\u001b[38;5;241;43m.\u001b[39;49m\u001b[43mcreate_model\u001b[49m\u001b[43m(\u001b[49m\n\u001b[1;32m     34\u001b[0m \u001b[43m        \u001b[49m\u001b[43mconstraints\u001b[49m\u001b[43m,\u001b[49m\u001b[43m \u001b[49m\u001b[43mexecution_preferences\u001b[49m\u001b[43m,\u001b[49m\u001b[43m \u001b[49m\u001b[43mpreferences\u001b[49m\n\u001b[1;32m     35\u001b[0m \u001b[43m    \u001b[49m\u001b[43m)\u001b[49m\u001b[38;5;241m.\u001b[39mget_model()\n",
      "File \u001b[0;32m~/conda/envs/cuquantum-23.10/lib/python3.10/site-packages/classiq/qmod/quantum_function.py:69\u001b[0m, in \u001b[0;36mQFunc.create_model\u001b[0;34m(self, constraints, execution_preferences, preferences)\u001b[0m\n\u001b[1;32m     63\u001b[0m \u001b[38;5;28mself\u001b[39m\u001b[38;5;241m.\u001b[39m_add_native_func_def()\n\u001b[1;32m     64\u001b[0m model_extra_settings: List[Tuple[\u001b[38;5;28mstr\u001b[39m, Any]] \u001b[38;5;241m=\u001b[39m [\n\u001b[1;32m     65\u001b[0m     (\u001b[38;5;124m\"\u001b[39m\u001b[38;5;124mconstraints\u001b[39m\u001b[38;5;124m\"\u001b[39m, constraints),\n\u001b[1;32m     66\u001b[0m     (\u001b[38;5;124m\"\u001b[39m\u001b[38;5;124mexecution_preferences\u001b[39m\u001b[38;5;124m\"\u001b[39m, execution_preferences),\n\u001b[1;32m     67\u001b[0m     (\u001b[38;5;124m\"\u001b[39m\u001b[38;5;124mpreferences\u001b[39m\u001b[38;5;124m\"\u001b[39m, preferences),\n\u001b[1;32m     68\u001b[0m ]\n\u001b[0;32m---> 69\u001b[0m \u001b[38;5;28;01mreturn\u001b[39;00m \u001b[43mModel\u001b[49m\u001b[43m(\u001b[49m\n\u001b[1;32m     70\u001b[0m \u001b[43m    \u001b[49m\u001b[43mfunctions\u001b[49m\u001b[38;5;241;43m=\u001b[39;49m\u001b[38;5;28;43mlist\u001b[39;49m\u001b[43m(\u001b[49m\u001b[38;5;28;43mself\u001b[39;49m\u001b[38;5;241;43m.\u001b[39;49m\u001b[43m_qmodule\u001b[49m\u001b[38;5;241;43m.\u001b[39;49m\u001b[43mnative_defs\u001b[49m\u001b[38;5;241;43m.\u001b[39;49m\u001b[43mvalues\u001b[49m\u001b[43m(\u001b[49m\u001b[43m)\u001b[49m\u001b[43m)\u001b[49m\u001b[43m,\u001b[49m\n\u001b[1;32m     71\u001b[0m \u001b[43m    \u001b[49m\u001b[43mtypes\u001b[49m\u001b[38;5;241;43m=\u001b[39;49m\u001b[38;5;28;43mlist\u001b[39;49m\u001b[43m(\u001b[49m\u001b[38;5;28;43mself\u001b[39;49m\u001b[38;5;241;43m.\u001b[39;49m\u001b[43m_qmodule\u001b[49m\u001b[38;5;241;43m.\u001b[39;49m\u001b[43mtype_decls\u001b[49m\u001b[38;5;241;43m.\u001b[39;49m\u001b[43mvalues\u001b[49m\u001b[43m(\u001b[49m\u001b[43m)\u001b[49m\u001b[43m)\u001b[49m\u001b[43m,\u001b[49m\n\u001b[1;32m     72\u001b[0m \u001b[43m    \u001b[49m\u001b[38;5;241;43m*\u001b[39;49m\u001b[38;5;241;43m*\u001b[39;49m\u001b[43m{\u001b[49m\u001b[43mkey\u001b[49m\u001b[43m:\u001b[49m\u001b[43m \u001b[49m\u001b[43mvalue\u001b[49m\u001b[43m \u001b[49m\u001b[38;5;28;43;01mfor\u001b[39;49;00m\u001b[43m \u001b[49m\u001b[43mkey\u001b[49m\u001b[43m,\u001b[49m\u001b[43m \u001b[49m\u001b[43mvalue\u001b[49m\u001b[43m \u001b[49m\u001b[38;5;129;43;01min\u001b[39;49;00m\u001b[43m \u001b[49m\u001b[43mmodel_extra_settings\u001b[49m\u001b[43m \u001b[49m\u001b[38;5;28;43;01mif\u001b[39;49;00m\u001b[43m \u001b[49m\u001b[43mvalue\u001b[49m\u001b[43m}\u001b[49m\u001b[43m,\u001b[49m\n\u001b[1;32m     73\u001b[0m \u001b[43m\u001b[49m\u001b[43m)\u001b[49m\n",
      "File \u001b[0;32m~/conda/envs/cuquantum-23.10/lib/python3.10/site-packages/pydantic/main.py:341\u001b[0m, in \u001b[0;36mpydantic.main.BaseModel.__init__\u001b[0;34m()\u001b[0m\n",
      "\u001b[0;31mValidationError\u001b[0m: 1 validation error for Model\n__root__\n  Handle 'y' was errored with \"Trying to access handle 'y' as output but it is in incorrect state. Trying to access handle 'y' as input but it is in incorrect state. Trying to access handle 'y' as output but it is in incorrect state\"\nIf you need further assistance, please reach out on our Community Slack channel at: https://short.classiq.io/join-slack\nIf the error persists feel free to open a ticket at: https://short.classiq.io/support (type=value_error.classiqvalue; _raw_message=Handle 'y' was errored with \"Trying to access handle 'y' as output but it is in incorrect state. Trying to access handle 'y' as input but it is in incorrect state. Trying to access handle 'y' as output but it is in incorrect state\")"
     ]
    }
   ],
   "source": [
    "@QFunc\n",
    "def main():\n",
    "    y = QNum(\"y\")\n",
    "    x = QNum(\"x\")\n",
    "    a = 2\n",
    "    b = 1\n",
    "    allocate_num(num_qubits=4,is_signed=False,fraction_digits=0,out=x)\n",
    "    allocate_num(num_qubits=4,is_signed=False,fraction_digits=0,out=y)\n",
    "    hadamard_transform(x)\n",
    "    linear_func(a,b,x,y)\n",
    "    linear_func(a,b,y,y)\n",
    "\n",
    "qmod = create_model(main)"
   ]
  },
  {
   "cell_type": "code",
   "execution_count": null,
   "metadata": {},
   "outputs": [],
   "source": [
    "from classiq import Model, QSInt, QUInt, synthesize\n",
    "from classiq.builtin_functions import BitwiseAnd\n",
    "\n",
    "x = QSInt(size=5)\n",
    "y = QUInt(size=3)\n",
    "\n",
    "params = mult(\n",
    "    left_arg=x.to_register_user_input(), right_arg=y.to_register_user_input()\n",
    ")\n",
    "model = Model()\n",
    "model.mult(\n",
    "    params,\n",
    "    out_wires=[x, y]\n",
    "    # Alternatively, it is possible to pass it by order, as follows:\n",
    "    # out_wires={\n",
    "    #     \"left_arg\": x,\n",
    "    #     \"right_arg\": y,\n",
    "    # }\n",
    ")\n",
    "qprog = synthesize(model.get_model())"
   ]
  },
  {
   "cell_type": "code",
   "execution_count": 150,
   "metadata": {},
   "outputs": [
    {
     "ename": "ClassiqValueError",
     "evalue": "hadamard_transform() takes 1 arguments but 2 were given\nIf you need further assistance, please reach out on our Community Slack channel at: https://short.classiq.io/join-slack\nIf the error persists feel free to open a ticket at: https://short.classiq.io/support",
     "output_type": "error",
     "traceback": [
      "\u001b[0;31m---------------------------------------------------------------------------\u001b[0m",
      "\u001b[0;31mClassiqValueError\u001b[0m                         Traceback (most recent call last)",
      "Cell \u001b[0;32mIn[150], line 19\u001b[0m\n\u001b[1;32m     16\u001b[0m     hadamard_transform(start,\u001b[38;5;241m2\u001b[39m)\n\u001b[1;32m     17\u001b[0m     foo(end, start, start)\n\u001b[0;32m---> 19\u001b[0m qmod \u001b[38;5;241m=\u001b[39m \u001b[43mcreate_model\u001b[49m\u001b[43m(\u001b[49m\u001b[43mmain\u001b[49m\u001b[43m)\u001b[49m\n",
      "File \u001b[0;32m~/conda/envs/cuquantum-23.10/lib/python3.10/site-packages/classiq/qmod/quantum_function.py:33\u001b[0m, in \u001b[0;36mcreate_model\u001b[0;34m(entry_point, constraints, execution_preferences, preferences)\u001b[0m\n\u001b[1;32m     27\u001b[0m \u001b[38;5;28;01mdef\u001b[39;00m \u001b[38;5;21mcreate_model\u001b[39m(\n\u001b[1;32m     28\u001b[0m     entry_point: \u001b[38;5;124m\"\u001b[39m\u001b[38;5;124mQFunc\u001b[39m\u001b[38;5;124m\"\u001b[39m,\n\u001b[1;32m     29\u001b[0m     constraints: Optional[Constraints] \u001b[38;5;241m=\u001b[39m \u001b[38;5;28;01mNone\u001b[39;00m,\n\u001b[1;32m     30\u001b[0m     execution_preferences: Optional[ExecutionPreferences] \u001b[38;5;241m=\u001b[39m \u001b[38;5;28;01mNone\u001b[39;00m,\n\u001b[1;32m     31\u001b[0m     preferences: Optional[Preferences] \u001b[38;5;241m=\u001b[39m \u001b[38;5;28;01mNone\u001b[39;00m,\n\u001b[1;32m     32\u001b[0m ) \u001b[38;5;241m-\u001b[39m\u001b[38;5;241m>\u001b[39m SerializedModel:\n\u001b[0;32m---> 33\u001b[0m     \u001b[38;5;28;01mreturn\u001b[39;00m \u001b[43mentry_point\u001b[49m\u001b[38;5;241;43m.\u001b[39;49m\u001b[43mcreate_model\u001b[49m\u001b[43m(\u001b[49m\n\u001b[1;32m     34\u001b[0m \u001b[43m        \u001b[49m\u001b[43mconstraints\u001b[49m\u001b[43m,\u001b[49m\u001b[43m \u001b[49m\u001b[43mexecution_preferences\u001b[49m\u001b[43m,\u001b[49m\u001b[43m \u001b[49m\u001b[43mpreferences\u001b[49m\n\u001b[1;32m     35\u001b[0m \u001b[43m    \u001b[49m\u001b[43m)\u001b[49m\u001b[38;5;241m.\u001b[39mget_model()\n",
      "File \u001b[0;32m~/conda/envs/cuquantum-23.10/lib/python3.10/site-packages/classiq/qmod/quantum_function.py:63\u001b[0m, in \u001b[0;36mQFunc.create_model\u001b[0;34m(self, constraints, execution_preferences, preferences)\u001b[0m\n\u001b[1;32m     61\u001b[0m \u001b[38;5;28mself\u001b[39m\u001b[38;5;241m.\u001b[39m_qmodule\u001b[38;5;241m.\u001b[39mtype_decls \u001b[38;5;241m=\u001b[39m \u001b[38;5;28mdict\u001b[39m()\n\u001b[1;32m     62\u001b[0m \u001b[38;5;28mself\u001b[39m\u001b[38;5;241m.\u001b[39m_qmodule\u001b[38;5;241m.\u001b[39mnative_defs \u001b[38;5;241m=\u001b[39m \u001b[38;5;28mdict\u001b[39m()\n\u001b[0;32m---> 63\u001b[0m \u001b[38;5;28;43mself\u001b[39;49m\u001b[38;5;241;43m.\u001b[39;49m\u001b[43m_add_native_func_def\u001b[49m\u001b[43m(\u001b[49m\u001b[43m)\u001b[49m\n\u001b[1;32m     64\u001b[0m model_extra_settings: List[Tuple[\u001b[38;5;28mstr\u001b[39m, Any]] \u001b[38;5;241m=\u001b[39m [\n\u001b[1;32m     65\u001b[0m     (\u001b[38;5;124m\"\u001b[39m\u001b[38;5;124mconstraints\u001b[39m\u001b[38;5;124m\"\u001b[39m, constraints),\n\u001b[1;32m     66\u001b[0m     (\u001b[38;5;124m\"\u001b[39m\u001b[38;5;124mexecution_preferences\u001b[39m\u001b[38;5;124m\"\u001b[39m, execution_preferences),\n\u001b[1;32m     67\u001b[0m     (\u001b[38;5;124m\"\u001b[39m\u001b[38;5;124mpreferences\u001b[39m\u001b[38;5;124m\"\u001b[39m, preferences),\n\u001b[1;32m     68\u001b[0m ]\n\u001b[1;32m     69\u001b[0m \u001b[38;5;28;01mreturn\u001b[39;00m Model(\n\u001b[1;32m     70\u001b[0m     functions\u001b[38;5;241m=\u001b[39m\u001b[38;5;28mlist\u001b[39m(\u001b[38;5;28mself\u001b[39m\u001b[38;5;241m.\u001b[39m_qmodule\u001b[38;5;241m.\u001b[39mnative_defs\u001b[38;5;241m.\u001b[39mvalues()),\n\u001b[1;32m     71\u001b[0m     types\u001b[38;5;241m=\u001b[39m\u001b[38;5;28mlist\u001b[39m(\u001b[38;5;28mself\u001b[39m\u001b[38;5;241m.\u001b[39m_qmodule\u001b[38;5;241m.\u001b[39mtype_decls\u001b[38;5;241m.\u001b[39mvalues()),\n\u001b[1;32m     72\u001b[0m     \u001b[38;5;241m*\u001b[39m\u001b[38;5;241m*\u001b[39m{key: value \u001b[38;5;28;01mfor\u001b[39;00m key, value \u001b[38;5;129;01min\u001b[39;00m model_extra_settings \u001b[38;5;28;01mif\u001b[39;00m value},\n\u001b[1;32m     73\u001b[0m )\n",
      "File \u001b[0;32m~/conda/envs/cuquantum-23.10/lib/python3.10/site-packages/classiq/qmod/quantum_function.py:78\u001b[0m, in \u001b[0;36mQFunc._add_native_func_def\u001b[0;34m(self)\u001b[0m\n\u001b[1;32m     76\u001b[0m \u001b[38;5;28;01mif\u001b[39;00m \u001b[38;5;28mself\u001b[39m\u001b[38;5;241m.\u001b[39mfunc_decl\u001b[38;5;241m.\u001b[39mname \u001b[38;5;129;01min\u001b[39;00m \u001b[38;5;28mself\u001b[39m\u001b[38;5;241m.\u001b[39m_qmodule\u001b[38;5;241m.\u001b[39mnative_defs:\n\u001b[1;32m     77\u001b[0m     \u001b[38;5;28;01mreturn\u001b[39;00m\n\u001b[0;32m---> 78\u001b[0m \u001b[38;5;28;43mself\u001b[39;49m\u001b[38;5;241;43m.\u001b[39;49m\u001b[43mexpand\u001b[49m\u001b[43m(\u001b[49m\u001b[43m)\u001b[49m\n\u001b[1;32m     79\u001b[0m \u001b[38;5;28mself\u001b[39m\u001b[38;5;241m.\u001b[39m_qmodule\u001b[38;5;241m.\u001b[39mnative_defs[\u001b[38;5;28mself\u001b[39m\u001b[38;5;241m.\u001b[39mfunc_decl\u001b[38;5;241m.\u001b[39mname] \u001b[38;5;241m=\u001b[39m NativeFunctionDefinition(\n\u001b[1;32m     80\u001b[0m     \u001b[38;5;241m*\u001b[39m\u001b[38;5;241m*\u001b[39m\u001b[38;5;28mself\u001b[39m\u001b[38;5;241m.\u001b[39mfunc_decl\u001b[38;5;241m.\u001b[39m\u001b[38;5;18m__dict__\u001b[39m, body\u001b[38;5;241m=\u001b[39m\u001b[38;5;28mself\u001b[39m\u001b[38;5;241m.\u001b[39mbody\n\u001b[1;32m     81\u001b[0m )\n",
      "File \u001b[0;32m~/conda/envs/cuquantum-23.10/lib/python3.10/site-packages/classiq/qmod/quantum_expandable.py:69\u001b[0m, in \u001b[0;36mQExpandable.expand\u001b[0;34m(self)\u001b[0m\n\u001b[1;32m     67\u001b[0m \u001b[38;5;28;01mdef\u001b[39;00m \u001b[38;5;21mexpand\u001b[39m(\u001b[38;5;28mself\u001b[39m) \u001b[38;5;241m-\u001b[39m\u001b[38;5;241m>\u001b[39m \u001b[38;5;28;01mNone\u001b[39;00m:\n\u001b[1;32m     68\u001b[0m     \u001b[38;5;28;01mwith\u001b[39;00m \u001b[38;5;28mself\u001b[39m:\n\u001b[0;32m---> 69\u001b[0m         \u001b[38;5;28;43mself\u001b[39;49m\u001b[38;5;241;43m.\u001b[39;49m\u001b[43m_py_callable\u001b[49m\u001b[43m(\u001b[49m\u001b[38;5;241;43m*\u001b[39;49m\u001b[38;5;28;43mself\u001b[39;49m\u001b[38;5;241;43m.\u001b[39;49m\u001b[43m_get_positional_args\u001b[49m\u001b[43m(\u001b[49m\u001b[43m)\u001b[49m\u001b[43m)\u001b[49m\n",
      "Cell \u001b[0;32mIn[150], line 16\u001b[0m, in \u001b[0;36mmain\u001b[0;34m()\u001b[0m\n\u001b[1;32m     14\u001b[0m end \u001b[38;5;241m=\u001b[39m \u001b[38;5;241m3\u001b[39m\n\u001b[1;32m     15\u001b[0m allocate_num(\u001b[38;5;241m4\u001b[39m,\u001b[38;5;28;01mFalse\u001b[39;00m,\u001b[38;5;241m4\u001b[39m,start)\n\u001b[0;32m---> 16\u001b[0m \u001b[43mhadamard_transform\u001b[49m\u001b[43m(\u001b[49m\u001b[43mstart\u001b[49m\u001b[43m,\u001b[49m\u001b[38;5;241;43m2\u001b[39;49m\u001b[43m)\u001b[49m\n\u001b[1;32m     17\u001b[0m foo(end, start, start)\n",
      "File \u001b[0;32m~/conda/envs/cuquantum-23.10/lib/python3.10/site-packages/classiq/qmod/quantum_callable.py:34\u001b[0m, in \u001b[0;36mQCallable.__call__\u001b[0;34m(self, *args, **kwargs)\u001b[0m\n\u001b[1;32m     31\u001b[0m \u001b[38;5;28;01mdef\u001b[39;00m \u001b[38;5;21m__call__\u001b[39m(\u001b[38;5;28mself\u001b[39m, \u001b[38;5;241m*\u001b[39margs: Any, \u001b[38;5;241m*\u001b[39m\u001b[38;5;241m*\u001b[39mkwargs: Any) \u001b[38;5;241m-\u001b[39m\u001b[38;5;241m>\u001b[39m \u001b[38;5;28;01mNone\u001b[39;00m:\n\u001b[1;32m     32\u001b[0m     \u001b[38;5;28;01massert\u001b[39;00m QCallable\u001b[38;5;241m.\u001b[39mCURRENT_EXPANDABLE \u001b[38;5;129;01mis\u001b[39;00m \u001b[38;5;129;01mnot\u001b[39;00m \u001b[38;5;28;01mNone\u001b[39;00m\n\u001b[1;32m     33\u001b[0m     QCallable\u001b[38;5;241m.\u001b[39mCURRENT_EXPANDABLE\u001b[38;5;241m.\u001b[39mappend_statement_to_body(\n\u001b[0;32m---> 34\u001b[0m         \u001b[38;5;28;43mself\u001b[39;49m\u001b[38;5;241;43m.\u001b[39;49m\u001b[43mcreate_quantum_function_call\u001b[49m\u001b[43m(\u001b[49m\u001b[38;5;241;43m*\u001b[39;49m\u001b[43margs\u001b[49m\u001b[43m,\u001b[49m\u001b[43m \u001b[49m\u001b[38;5;241;43m*\u001b[39;49m\u001b[38;5;241;43m*\u001b[39;49m\u001b[43mkwargs\u001b[49m\u001b[43m)\u001b[49m\n\u001b[1;32m     35\u001b[0m     )\n\u001b[1;32m     36\u001b[0m     \u001b[38;5;28;01mreturn\u001b[39;00m\n",
      "File \u001b[0;32m~/conda/envs/cuquantum-23.10/lib/python3.10/site-packages/classiq/qmod/quantum_expandable.py:140\u001b[0m, in \u001b[0;36mQTerminalCallable.create_quantum_function_call\u001b[0;34m(self, *args, **kwargs)\u001b[0m\n\u001b[1;32m    137\u001b[0m \u001b[38;5;28;01mdef\u001b[39;00m \u001b[38;5;21mcreate_quantum_function_call\u001b[39m(\n\u001b[1;32m    138\u001b[0m     \u001b[38;5;28mself\u001b[39m, \u001b[38;5;241m*\u001b[39margs: Any, \u001b[38;5;241m*\u001b[39m\u001b[38;5;241m*\u001b[39mkwargs: Any\n\u001b[1;32m    139\u001b[0m ) \u001b[38;5;241m-\u001b[39m\u001b[38;5;241m>\u001b[39m QuantumFunctionCall:\n\u001b[0;32m--> 140\u001b[0m     \u001b[38;5;28;01mreturn\u001b[39;00m \u001b[43m_create_quantum_function_call\u001b[49m\u001b[43m(\u001b[49m\u001b[38;5;28;43mself\u001b[39;49m\u001b[38;5;241;43m.\u001b[39;49m\u001b[43mfunc_decl\u001b[49m\u001b[43m,\u001b[49m\u001b[43m \u001b[49m\u001b[38;5;241;43m*\u001b[39;49m\u001b[43margs\u001b[49m\u001b[43m,\u001b[49m\u001b[43m \u001b[49m\u001b[38;5;241;43m*\u001b[39;49m\u001b[38;5;241;43m*\u001b[39;49m\u001b[43mkwargs\u001b[49m\u001b[43m)\u001b[49m\n",
      "File \u001b[0;32m~/conda/envs/cuquantum-23.10/lib/python3.10/site-packages/classiq/qmod/quantum_expandable.py:224\u001b[0m, in \u001b[0;36m_create_quantum_function_call\u001b[0;34m(decl, *args, **kwargs)\u001b[0m\n\u001b[1;32m    220\u001b[0m         \u001b[38;5;28;01mraise\u001b[39;00m ClassiqValueError(\n\u001b[1;32m    221\u001b[0m             \u001b[38;5;124mf\u001b[39m\u001b[38;5;124m\"\u001b[39m\u001b[38;5;132;01m{\u001b[39;00mdecl\u001b[38;5;241m.\u001b[39mname\u001b[38;5;132;01m}\u001b[39;00m\u001b[38;5;124m() got multiple values for argument \u001b[39m\u001b[38;5;132;01m{\u001b[39;00mbad_kwarg\u001b[38;5;132;01m!r}\u001b[39;00m\u001b[38;5;124m\"\u001b[39m\n\u001b[1;32m    222\u001b[0m         )\n\u001b[1;32m    223\u001b[0m \u001b[38;5;28;01mif\u001b[39;00m arg_list:\n\u001b[0;32m--> 224\u001b[0m     \u001b[38;5;28;01mraise\u001b[39;00m ClassiqValueError(\n\u001b[1;32m    225\u001b[0m         \u001b[38;5;124mf\u001b[39m\u001b[38;5;124m\"\u001b[39m\u001b[38;5;132;01m{\u001b[39;00mdecl\u001b[38;5;241m.\u001b[39mname\u001b[38;5;132;01m}\u001b[39;00m\u001b[38;5;124m() takes \u001b[39m\u001b[38;5;132;01m{\u001b[39;00m\u001b[38;5;28mlen\u001b[39m(arg_decls)\u001b[38;5;132;01m}\u001b[39;00m\u001b[38;5;124m arguments but \u001b[39m\u001b[38;5;132;01m{\u001b[39;00m\u001b[38;5;28mlen\u001b[39m(args)\u001b[38;5;132;01m}\u001b[39;00m\u001b[38;5;124m were given\u001b[39m\u001b[38;5;124m\"\u001b[39m\n\u001b[1;32m    226\u001b[0m     )\n\u001b[1;32m    228\u001b[0m \u001b[38;5;28;01mreturn\u001b[39;00m QuantumFunctionCall(function\u001b[38;5;241m=\u001b[39mdecl\u001b[38;5;241m.\u001b[39mname, positional_args\u001b[38;5;241m=\u001b[39mprepared_args)\n",
      "\u001b[0;31mClassiqValueError\u001b[0m: hadamard_transform() takes 1 arguments but 2 were given\nIf you need further assistance, please reach out on our Community Slack channel at: https://short.classiq.io/join-slack\nIf the error persists feel free to open a ticket at: https://short.classiq.io/support"
     ]
    }
   ],
   "source": [
    "from sympy import pi\n",
    "from classiq import RX, QBit, QFunc, allocate, invert, control, power, add\n",
    "\n",
    "\n",
    "@QFunc\n",
    "def foo(left:QParam[int], right: Input[QNum], result: Output[QNum]) -> None:\n",
    "    result |= left + right\n",
    "    \n",
    "\n",
    "\n",
    "@QFunc\n",
    "def main() -> None:\n",
    "    start = QNum(\"start\")\n",
    "    end = 3\n",
    "    allocate_num(4,False,4,start)\n",
    "    hadamard_transform(start)\n",
    "    foo(end, start, start)\n",
    "\n",
    "qmod = create_model(main)"
   ]
  },
  {
   "cell_type": "code",
   "execution_count": 149,
   "metadata": {},
   "outputs": [
    {
     "ename": "ClassiqAPIError",
     "evalue": "Error number 22102 occurred. Size mismatch for port 'start' between declared size 4 and assigned size 6\n\nError identifier: E955F1E77-3339-4FD4-8F23-156E0102B88E.\nIf you need further assistance, please reach out on our Community Slack channel at: https://short.classiq.io/join-slack\nIf the error persists feel free to open a ticket at: https://short.classiq.io/support",
     "output_type": "error",
     "traceback": [
      "\u001b[0;31m---------------------------------------------------------------------------\u001b[0m",
      "\u001b[0;31mClassiqAPIError\u001b[0m                           Traceback (most recent call last)",
      "Cell \u001b[0;32mIn[149], line 1\u001b[0m\n\u001b[0;32m----> 1\u001b[0m qprog \u001b[38;5;241m=\u001b[39m \u001b[43msynthesize\u001b[49m\u001b[43m(\u001b[49m\u001b[43mqmod\u001b[49m\u001b[43m)\u001b[49m\n",
      "File \u001b[0;32m~/conda/envs/cuquantum-23.10/lib/python3.10/site-packages/classiq/_internals/async_utils.py:50\u001b[0m, in \u001b[0;36msyncify_function.<locals>.async_wrapper\u001b[0;34m(*args, **kwargs)\u001b[0m\n\u001b[1;32m     48\u001b[0m \u001b[38;5;129m@functools\u001b[39m\u001b[38;5;241m.\u001b[39mwraps(async_func)\n\u001b[1;32m     49\u001b[0m \u001b[38;5;28;01mdef\u001b[39;00m \u001b[38;5;21masync_wrapper\u001b[39m(\u001b[38;5;241m*\u001b[39margs: Any, \u001b[38;5;241m*\u001b[39m\u001b[38;5;241m*\u001b[39mkwargs: Any) \u001b[38;5;241m-\u001b[39m\u001b[38;5;241m>\u001b[39m T:\n\u001b[0;32m---> 50\u001b[0m     \u001b[38;5;28;01mreturn\u001b[39;00m \u001b[43mrun\u001b[49m\u001b[43m(\u001b[49m\u001b[43masync_func\u001b[49m\u001b[43m(\u001b[49m\u001b[38;5;241;43m*\u001b[39;49m\u001b[43margs\u001b[49m\u001b[43m,\u001b[49m\u001b[43m \u001b[49m\u001b[38;5;241;43m*\u001b[39;49m\u001b[38;5;241;43m*\u001b[39;49m\u001b[43mkwargs\u001b[49m\u001b[43m)\u001b[49m\u001b[43m)\u001b[49m\n",
      "File \u001b[0;32m~/conda/envs/cuquantum-23.10/lib/python3.10/site-packages/classiq/_internals/async_utils.py:44\u001b[0m, in \u001b[0;36mrun\u001b[0;34m(coro)\u001b[0m\n\u001b[1;32m     39\u001b[0m \u001b[38;5;28;01mdef\u001b[39;00m \u001b[38;5;21mrun\u001b[39m(coro: Awaitable[T]) \u001b[38;5;241m-\u001b[39m\u001b[38;5;241m>\u001b[39m T:\n\u001b[1;32m     40\u001b[0m     \u001b[38;5;66;03m# Use this function instead of asyncio.run, since it ALWAYS\u001b[39;00m\n\u001b[1;32m     41\u001b[0m     \u001b[38;5;66;03m# creates a new event loop and clears the thread event loop.\u001b[39;00m\n\u001b[1;32m     42\u001b[0m     \u001b[38;5;66;03m# Never use asyncio.run in library code.\u001b[39;00m\n\u001b[1;32m     43\u001b[0m     loop \u001b[38;5;241m=\u001b[39m get_event_loop()\n\u001b[0;32m---> 44\u001b[0m     \u001b[38;5;28;01mreturn\u001b[39;00m \u001b[43mloop\u001b[49m\u001b[38;5;241;43m.\u001b[39;49m\u001b[43mrun_until_complete\u001b[49m\u001b[43m(\u001b[49m\u001b[43mcoro\u001b[49m\u001b[43m)\u001b[49m\n",
      "File \u001b[0;32m~/conda/envs/cuquantum-23.10/lib/python3.10/site-packages/nest_asyncio.py:90\u001b[0m, in \u001b[0;36m_patch_loop.<locals>.run_until_complete\u001b[0;34m(self, future)\u001b[0m\n\u001b[1;32m     87\u001b[0m \u001b[38;5;28;01mif\u001b[39;00m \u001b[38;5;129;01mnot\u001b[39;00m f\u001b[38;5;241m.\u001b[39mdone():\n\u001b[1;32m     88\u001b[0m     \u001b[38;5;28;01mraise\u001b[39;00m \u001b[38;5;167;01mRuntimeError\u001b[39;00m(\n\u001b[1;32m     89\u001b[0m         \u001b[38;5;124m'\u001b[39m\u001b[38;5;124mEvent loop stopped before Future completed.\u001b[39m\u001b[38;5;124m'\u001b[39m)\n\u001b[0;32m---> 90\u001b[0m \u001b[38;5;28;01mreturn\u001b[39;00m \u001b[43mf\u001b[49m\u001b[38;5;241;43m.\u001b[39;49m\u001b[43mresult\u001b[49m\u001b[43m(\u001b[49m\u001b[43m)\u001b[49m\n",
      "File \u001b[0;32m~/conda/envs/cuquantum-23.10/lib/python3.10/asyncio/futures.py:201\u001b[0m, in \u001b[0;36mFuture.result\u001b[0;34m(self)\u001b[0m\n\u001b[1;32m    199\u001b[0m \u001b[38;5;28mself\u001b[39m\u001b[38;5;241m.\u001b[39m__log_traceback \u001b[38;5;241m=\u001b[39m \u001b[38;5;28;01mFalse\u001b[39;00m\n\u001b[1;32m    200\u001b[0m \u001b[38;5;28;01mif\u001b[39;00m \u001b[38;5;28mself\u001b[39m\u001b[38;5;241m.\u001b[39m_exception \u001b[38;5;129;01mis\u001b[39;00m \u001b[38;5;129;01mnot\u001b[39;00m \u001b[38;5;28;01mNone\u001b[39;00m:\n\u001b[0;32m--> 201\u001b[0m     \u001b[38;5;28;01mraise\u001b[39;00m \u001b[38;5;28mself\u001b[39m\u001b[38;5;241m.\u001b[39m_exception\u001b[38;5;241m.\u001b[39mwith_traceback(\u001b[38;5;28mself\u001b[39m\u001b[38;5;241m.\u001b[39m_exception_tb)\n\u001b[1;32m    202\u001b[0m \u001b[38;5;28;01mreturn\u001b[39;00m \u001b[38;5;28mself\u001b[39m\u001b[38;5;241m.\u001b[39m_result\n",
      "File \u001b[0;32m~/conda/envs/cuquantum-23.10/lib/python3.10/asyncio/tasks.py:232\u001b[0m, in \u001b[0;36mTask.__step\u001b[0;34m(***failed resolving arguments***)\u001b[0m\n\u001b[1;32m    228\u001b[0m \u001b[38;5;28;01mtry\u001b[39;00m:\n\u001b[1;32m    229\u001b[0m     \u001b[38;5;28;01mif\u001b[39;00m exc \u001b[38;5;129;01mis\u001b[39;00m \u001b[38;5;28;01mNone\u001b[39;00m:\n\u001b[1;32m    230\u001b[0m         \u001b[38;5;66;03m# We use the `send` method directly, because coroutines\u001b[39;00m\n\u001b[1;32m    231\u001b[0m         \u001b[38;5;66;03m# don't have `__iter__` and `__next__` methods.\u001b[39;00m\n\u001b[0;32m--> 232\u001b[0m         result \u001b[38;5;241m=\u001b[39m \u001b[43mcoro\u001b[49m\u001b[38;5;241;43m.\u001b[39;49m\u001b[43msend\u001b[49m\u001b[43m(\u001b[49m\u001b[38;5;28;43;01mNone\u001b[39;49;00m\u001b[43m)\u001b[49m\n\u001b[1;32m    233\u001b[0m     \u001b[38;5;28;01melse\u001b[39;00m:\n\u001b[1;32m    234\u001b[0m         result \u001b[38;5;241m=\u001b[39m coro\u001b[38;5;241m.\u001b[39mthrow(exc)\n",
      "File \u001b[0;32m~/conda/envs/cuquantum-23.10/lib/python3.10/site-packages/classiq/synthesis.py:21\u001b[0m, in \u001b[0;36msynthesize_async\u001b[0;34m(serialized_model)\u001b[0m\n\u001b[1;32m     17\u001b[0m \u001b[38;5;28;01masync\u001b[39;00m \u001b[38;5;28;01mdef\u001b[39;00m \u001b[38;5;21msynthesize_async\u001b[39m(\n\u001b[1;32m     18\u001b[0m     serialized_model: SerializedModelInput,\n\u001b[1;32m     19\u001b[0m ) \u001b[38;5;241m-\u001b[39m\u001b[38;5;241m>\u001b[39m SerializedQuantumProgram:\n\u001b[1;32m     20\u001b[0m     model: ModelInput \u001b[38;5;241m=\u001b[39m pydantic\u001b[38;5;241m.\u001b[39mparse_raw_as(ModelInput, serialized_model)  \u001b[38;5;66;03m# type: ignore[arg-type]\u001b[39;00m\n\u001b[0;32m---> 21\u001b[0m     quantum_program \u001b[38;5;241m=\u001b[39m \u001b[38;5;28;01mawait\u001b[39;00m ApiWrapper\u001b[38;5;241m.\u001b[39mcall_generation_task(model)\n\u001b[1;32m     22\u001b[0m     \u001b[38;5;28;01mreturn\u001b[39;00m SerializedQuantumProgram(quantum_program\u001b[38;5;241m.\u001b[39mjson(indent\u001b[38;5;241m=\u001b[39m\u001b[38;5;241m2\u001b[39m))\n",
      "File \u001b[0;32m~/conda/envs/cuquantum-23.10/lib/python3.10/site-packages/classiq/_internals/api_wrapper.py:93\u001b[0m, in \u001b[0;36mApiWrapper.call_generation_task\u001b[0;34m(cls, model)\u001b[0m\n\u001b[1;32m     91\u001b[0m poller \u001b[38;5;241m=\u001b[39m JobPoller(base_url\u001b[38;5;241m=\u001b[39mroutes\u001b[38;5;241m.\u001b[39mTASKS_GENERATE_FULL_PATH)\n\u001b[1;32m     92\u001b[0m result \u001b[38;5;241m=\u001b[39m \u001b[38;5;28;01mawait\u001b[39;00m poller\u001b[38;5;241m.\u001b[39mrun_pydantic(model, timeout_sec\u001b[38;5;241m=\u001b[39m\u001b[38;5;28;01mNone\u001b[39;00m)\n\u001b[0;32m---> 93\u001b[0m \u001b[38;5;28;01mreturn\u001b[39;00m \u001b[43m_parse_job_response\u001b[49m\u001b[43m(\u001b[49m\u001b[43mresult\u001b[49m\u001b[43m,\u001b[49m\u001b[43m \u001b[49m\u001b[43mgenerator_result\u001b[49m\u001b[38;5;241;43m.\u001b[39;49m\u001b[43mGeneratedCircuit\u001b[49m\u001b[43m)\u001b[49m\n",
      "File \u001b[0;32m~/conda/envs/cuquantum-23.10/lib/python3.10/site-packages/classiq/_internals/api_wrapper.py:46\u001b[0m, in \u001b[0;36m_parse_job_response\u001b[0;34m(job_result, output_type)\u001b[0m\n\u001b[1;32m     44\u001b[0m description \u001b[38;5;241m=\u001b[39m job_result\u001b[38;5;241m.\u001b[39mdescription\n\u001b[1;32m     45\u001b[0m \u001b[38;5;28;01mif\u001b[39;00m job_result\u001b[38;5;241m.\u001b[39mstatus \u001b[38;5;241m!=\u001b[39m JobStatus\u001b[38;5;241m.\u001b[39mCOMPLETED:\n\u001b[0;32m---> 46\u001b[0m     \u001b[38;5;28;01mraise\u001b[39;00m ClassiqAPIError(description[\u001b[38;5;124m\"\u001b[39m\u001b[38;5;124mdetails\u001b[39m\u001b[38;5;124m\"\u001b[39m])\n\u001b[1;32m     47\u001b[0m \u001b[38;5;28;01mreturn\u001b[39;00m output_type\u001b[38;5;241m.\u001b[39mparse_obj(description)\n",
      "\u001b[0;31mClassiqAPIError\u001b[0m: Error number 22102 occurred. Size mismatch for port 'start' between declared size 4 and assigned size 6\n\nError identifier: E955F1E77-3339-4FD4-8F23-156E0102B88E.\nIf you need further assistance, please reach out on our Community Slack channel at: https://short.classiq.io/join-slack\nIf the error persists feel free to open a ticket at: https://short.classiq.io/support"
     ]
    }
   ],
   "source": [
    "qprog = synthesize(qmod)"
   ]
  },
  {
   "cell_type": "code",
   "execution_count": 128,
   "metadata": {},
   "outputs": [
    {
     "ename": "AttributeError",
     "evalue": "'QParamScalar' object has no attribute 'get_handle_binding'",
     "output_type": "error",
     "traceback": [
      "\u001b[0;31m---------------------------------------------------------------------------\u001b[0m",
      "\u001b[0;31mAttributeError\u001b[0m                            Traceback (most recent call last)",
      "Cell \u001b[0;32mIn[128], line 37\u001b[0m\n\u001b[1;32m     33\u001b[0m     allocate(\u001b[38;5;241m4\u001b[39m, qba)\n\u001b[1;32m     34\u001b[0m     my_hadamard_transform(qba,right)\n\u001b[0;32m---> 37\u001b[0m model \u001b[38;5;241m=\u001b[39m \u001b[43mcreate_model\u001b[49m\u001b[43m(\u001b[49m\u001b[43mmain\u001b[49m\u001b[43m)\u001b[49m\n\u001b[1;32m     38\u001b[0m quantum_program \u001b[38;5;241m=\u001b[39m synthesize(model)\n\u001b[1;32m     39\u001b[0m show(quantum_program)\n",
      "File \u001b[0;32m~/conda/envs/cuquantum-23.10/lib/python3.10/site-packages/classiq/qmod/quantum_function.py:33\u001b[0m, in \u001b[0;36mcreate_model\u001b[0;34m(entry_point, constraints, execution_preferences, preferences)\u001b[0m\n\u001b[1;32m     27\u001b[0m \u001b[38;5;28;01mdef\u001b[39;00m \u001b[38;5;21mcreate_model\u001b[39m(\n\u001b[1;32m     28\u001b[0m     entry_point: \u001b[38;5;124m\"\u001b[39m\u001b[38;5;124mQFunc\u001b[39m\u001b[38;5;124m\"\u001b[39m,\n\u001b[1;32m     29\u001b[0m     constraints: Optional[Constraints] \u001b[38;5;241m=\u001b[39m \u001b[38;5;28;01mNone\u001b[39;00m,\n\u001b[1;32m     30\u001b[0m     execution_preferences: Optional[ExecutionPreferences] \u001b[38;5;241m=\u001b[39m \u001b[38;5;28;01mNone\u001b[39;00m,\n\u001b[1;32m     31\u001b[0m     preferences: Optional[Preferences] \u001b[38;5;241m=\u001b[39m \u001b[38;5;28;01mNone\u001b[39;00m,\n\u001b[1;32m     32\u001b[0m ) \u001b[38;5;241m-\u001b[39m\u001b[38;5;241m>\u001b[39m SerializedModel:\n\u001b[0;32m---> 33\u001b[0m     \u001b[38;5;28;01mreturn\u001b[39;00m \u001b[43mentry_point\u001b[49m\u001b[38;5;241;43m.\u001b[39;49m\u001b[43mcreate_model\u001b[49m\u001b[43m(\u001b[49m\n\u001b[1;32m     34\u001b[0m \u001b[43m        \u001b[49m\u001b[43mconstraints\u001b[49m\u001b[43m,\u001b[49m\u001b[43m \u001b[49m\u001b[43mexecution_preferences\u001b[49m\u001b[43m,\u001b[49m\u001b[43m \u001b[49m\u001b[43mpreferences\u001b[49m\n\u001b[1;32m     35\u001b[0m \u001b[43m    \u001b[49m\u001b[43m)\u001b[49m\u001b[38;5;241m.\u001b[39mget_model()\n",
      "File \u001b[0;32m~/conda/envs/cuquantum-23.10/lib/python3.10/site-packages/classiq/qmod/quantum_function.py:63\u001b[0m, in \u001b[0;36mQFunc.create_model\u001b[0;34m(self, constraints, execution_preferences, preferences)\u001b[0m\n\u001b[1;32m     61\u001b[0m \u001b[38;5;28mself\u001b[39m\u001b[38;5;241m.\u001b[39m_qmodule\u001b[38;5;241m.\u001b[39mtype_decls \u001b[38;5;241m=\u001b[39m \u001b[38;5;28mdict\u001b[39m()\n\u001b[1;32m     62\u001b[0m \u001b[38;5;28mself\u001b[39m\u001b[38;5;241m.\u001b[39m_qmodule\u001b[38;5;241m.\u001b[39mnative_defs \u001b[38;5;241m=\u001b[39m \u001b[38;5;28mdict\u001b[39m()\n\u001b[0;32m---> 63\u001b[0m \u001b[38;5;28;43mself\u001b[39;49m\u001b[38;5;241;43m.\u001b[39;49m\u001b[43m_add_native_func_def\u001b[49m\u001b[43m(\u001b[49m\u001b[43m)\u001b[49m\n\u001b[1;32m     64\u001b[0m model_extra_settings: List[Tuple[\u001b[38;5;28mstr\u001b[39m, Any]] \u001b[38;5;241m=\u001b[39m [\n\u001b[1;32m     65\u001b[0m     (\u001b[38;5;124m\"\u001b[39m\u001b[38;5;124mconstraints\u001b[39m\u001b[38;5;124m\"\u001b[39m, constraints),\n\u001b[1;32m     66\u001b[0m     (\u001b[38;5;124m\"\u001b[39m\u001b[38;5;124mexecution_preferences\u001b[39m\u001b[38;5;124m\"\u001b[39m, execution_preferences),\n\u001b[1;32m     67\u001b[0m     (\u001b[38;5;124m\"\u001b[39m\u001b[38;5;124mpreferences\u001b[39m\u001b[38;5;124m\"\u001b[39m, preferences),\n\u001b[1;32m     68\u001b[0m ]\n\u001b[1;32m     69\u001b[0m \u001b[38;5;28;01mreturn\u001b[39;00m Model(\n\u001b[1;32m     70\u001b[0m     functions\u001b[38;5;241m=\u001b[39m\u001b[38;5;28mlist\u001b[39m(\u001b[38;5;28mself\u001b[39m\u001b[38;5;241m.\u001b[39m_qmodule\u001b[38;5;241m.\u001b[39mnative_defs\u001b[38;5;241m.\u001b[39mvalues()),\n\u001b[1;32m     71\u001b[0m     types\u001b[38;5;241m=\u001b[39m\u001b[38;5;28mlist\u001b[39m(\u001b[38;5;28mself\u001b[39m\u001b[38;5;241m.\u001b[39m_qmodule\u001b[38;5;241m.\u001b[39mtype_decls\u001b[38;5;241m.\u001b[39mvalues()),\n\u001b[1;32m     72\u001b[0m     \u001b[38;5;241m*\u001b[39m\u001b[38;5;241m*\u001b[39m{key: value \u001b[38;5;28;01mfor\u001b[39;00m key, value \u001b[38;5;129;01min\u001b[39;00m model_extra_settings \u001b[38;5;28;01mif\u001b[39;00m value},\n\u001b[1;32m     73\u001b[0m )\n",
      "File \u001b[0;32m~/conda/envs/cuquantum-23.10/lib/python3.10/site-packages/classiq/qmod/quantum_function.py:78\u001b[0m, in \u001b[0;36mQFunc._add_native_func_def\u001b[0;34m(self)\u001b[0m\n\u001b[1;32m     76\u001b[0m \u001b[38;5;28;01mif\u001b[39;00m \u001b[38;5;28mself\u001b[39m\u001b[38;5;241m.\u001b[39mfunc_decl\u001b[38;5;241m.\u001b[39mname \u001b[38;5;129;01min\u001b[39;00m \u001b[38;5;28mself\u001b[39m\u001b[38;5;241m.\u001b[39m_qmodule\u001b[38;5;241m.\u001b[39mnative_defs:\n\u001b[1;32m     77\u001b[0m     \u001b[38;5;28;01mreturn\u001b[39;00m\n\u001b[0;32m---> 78\u001b[0m \u001b[38;5;28;43mself\u001b[39;49m\u001b[38;5;241;43m.\u001b[39;49m\u001b[43mexpand\u001b[49m\u001b[43m(\u001b[49m\u001b[43m)\u001b[49m\n\u001b[1;32m     79\u001b[0m \u001b[38;5;28mself\u001b[39m\u001b[38;5;241m.\u001b[39m_qmodule\u001b[38;5;241m.\u001b[39mnative_defs[\u001b[38;5;28mself\u001b[39m\u001b[38;5;241m.\u001b[39mfunc_decl\u001b[38;5;241m.\u001b[39mname] \u001b[38;5;241m=\u001b[39m NativeFunctionDefinition(\n\u001b[1;32m     80\u001b[0m     \u001b[38;5;241m*\u001b[39m\u001b[38;5;241m*\u001b[39m\u001b[38;5;28mself\u001b[39m\u001b[38;5;241m.\u001b[39mfunc_decl\u001b[38;5;241m.\u001b[39m\u001b[38;5;18m__dict__\u001b[39m, body\u001b[38;5;241m=\u001b[39m\u001b[38;5;28mself\u001b[39m\u001b[38;5;241m.\u001b[39mbody\n\u001b[1;32m     81\u001b[0m )\n",
      "File \u001b[0;32m~/conda/envs/cuquantum-23.10/lib/python3.10/site-packages/classiq/qmod/quantum_expandable.py:69\u001b[0m, in \u001b[0;36mQExpandable.expand\u001b[0;34m(self)\u001b[0m\n\u001b[1;32m     67\u001b[0m \u001b[38;5;28;01mdef\u001b[39;00m \u001b[38;5;21mexpand\u001b[39m(\u001b[38;5;28mself\u001b[39m) \u001b[38;5;241m-\u001b[39m\u001b[38;5;241m>\u001b[39m \u001b[38;5;28;01mNone\u001b[39;00m:\n\u001b[1;32m     68\u001b[0m     \u001b[38;5;28;01mwith\u001b[39;00m \u001b[38;5;28mself\u001b[39m:\n\u001b[0;32m---> 69\u001b[0m         \u001b[38;5;28;43mself\u001b[39;49m\u001b[38;5;241;43m.\u001b[39;49m\u001b[43m_py_callable\u001b[49m\u001b[43m(\u001b[49m\u001b[38;5;241;43m*\u001b[39;49m\u001b[38;5;28;43mself\u001b[39;49m\u001b[38;5;241;43m.\u001b[39;49m\u001b[43m_get_positional_args\u001b[49m\u001b[43m(\u001b[49m\u001b[43m)\u001b[49m\u001b[43m)\u001b[49m\n",
      "Cell \u001b[0;32mIn[128], line 34\u001b[0m, in \u001b[0;36mmain\u001b[0;34m()\u001b[0m\n\u001b[1;32m     32\u001b[0m right \u001b[38;5;241m=\u001b[39m \u001b[38;5;241m3\u001b[39m\n\u001b[1;32m     33\u001b[0m allocate(\u001b[38;5;241m4\u001b[39m, qba)\n\u001b[0;32m---> 34\u001b[0m \u001b[43mmy_hadamard_transform\u001b[49m\u001b[43m(\u001b[49m\u001b[43mqba\u001b[49m\u001b[43m,\u001b[49m\u001b[43mright\u001b[49m\u001b[43m)\u001b[49m\n",
      "File \u001b[0;32m~/conda/envs/cuquantum-23.10/lib/python3.10/site-packages/classiq/qmod/quantum_function.py:53\u001b[0m, in \u001b[0;36mQFunc.__call__\u001b[0;34m(self, *args, **kwargs)\u001b[0m\n\u001b[1;32m     51\u001b[0m \u001b[38;5;28;01mdef\u001b[39;00m \u001b[38;5;21m__call__\u001b[39m(\u001b[38;5;28mself\u001b[39m, \u001b[38;5;241m*\u001b[39margs: Any, \u001b[38;5;241m*\u001b[39m\u001b[38;5;241m*\u001b[39mkwargs: Any) \u001b[38;5;241m-\u001b[39m\u001b[38;5;241m>\u001b[39m \u001b[38;5;28;01mNone\u001b[39;00m:\n\u001b[1;32m     52\u001b[0m     \u001b[38;5;28msuper\u001b[39m()\u001b[38;5;241m.\u001b[39m\u001b[38;5;21m__call__\u001b[39m(\u001b[38;5;241m*\u001b[39margs, \u001b[38;5;241m*\u001b[39m\u001b[38;5;241m*\u001b[39mkwargs)\n\u001b[0;32m---> 53\u001b[0m     \u001b[38;5;28;43mself\u001b[39;49m\u001b[38;5;241;43m.\u001b[39;49m\u001b[43m_add_native_func_def\u001b[49m\u001b[43m(\u001b[49m\u001b[43m)\u001b[49m\n",
      "File \u001b[0;32m~/conda/envs/cuquantum-23.10/lib/python3.10/site-packages/classiq/qmod/quantum_function.py:78\u001b[0m, in \u001b[0;36mQFunc._add_native_func_def\u001b[0;34m(self)\u001b[0m\n\u001b[1;32m     76\u001b[0m \u001b[38;5;28;01mif\u001b[39;00m \u001b[38;5;28mself\u001b[39m\u001b[38;5;241m.\u001b[39mfunc_decl\u001b[38;5;241m.\u001b[39mname \u001b[38;5;129;01min\u001b[39;00m \u001b[38;5;28mself\u001b[39m\u001b[38;5;241m.\u001b[39m_qmodule\u001b[38;5;241m.\u001b[39mnative_defs:\n\u001b[1;32m     77\u001b[0m     \u001b[38;5;28;01mreturn\u001b[39;00m\n\u001b[0;32m---> 78\u001b[0m \u001b[38;5;28;43mself\u001b[39;49m\u001b[38;5;241;43m.\u001b[39;49m\u001b[43mexpand\u001b[49m\u001b[43m(\u001b[49m\u001b[43m)\u001b[49m\n\u001b[1;32m     79\u001b[0m \u001b[38;5;28mself\u001b[39m\u001b[38;5;241m.\u001b[39m_qmodule\u001b[38;5;241m.\u001b[39mnative_defs[\u001b[38;5;28mself\u001b[39m\u001b[38;5;241m.\u001b[39mfunc_decl\u001b[38;5;241m.\u001b[39mname] \u001b[38;5;241m=\u001b[39m NativeFunctionDefinition(\n\u001b[1;32m     80\u001b[0m     \u001b[38;5;241m*\u001b[39m\u001b[38;5;241m*\u001b[39m\u001b[38;5;28mself\u001b[39m\u001b[38;5;241m.\u001b[39mfunc_decl\u001b[38;5;241m.\u001b[39m\u001b[38;5;18m__dict__\u001b[39m, body\u001b[38;5;241m=\u001b[39m\u001b[38;5;28mself\u001b[39m\u001b[38;5;241m.\u001b[39mbody\n\u001b[1;32m     81\u001b[0m )\n",
      "File \u001b[0;32m~/conda/envs/cuquantum-23.10/lib/python3.10/site-packages/classiq/qmod/quantum_expandable.py:69\u001b[0m, in \u001b[0;36mQExpandable.expand\u001b[0;34m(self)\u001b[0m\n\u001b[1;32m     67\u001b[0m \u001b[38;5;28;01mdef\u001b[39;00m \u001b[38;5;21mexpand\u001b[39m(\u001b[38;5;28mself\u001b[39m) \u001b[38;5;241m-\u001b[39m\u001b[38;5;241m>\u001b[39m \u001b[38;5;28;01mNone\u001b[39;00m:\n\u001b[1;32m     68\u001b[0m     \u001b[38;5;28;01mwith\u001b[39;00m \u001b[38;5;28mself\u001b[39m:\n\u001b[0;32m---> 69\u001b[0m         \u001b[38;5;28;43mself\u001b[39;49m\u001b[38;5;241;43m.\u001b[39;49m\u001b[43m_py_callable\u001b[49m\u001b[43m(\u001b[49m\u001b[38;5;241;43m*\u001b[39;49m\u001b[38;5;28;43mself\u001b[39;49m\u001b[38;5;241;43m.\u001b[39;49m\u001b[43m_get_positional_args\u001b[49m\u001b[43m(\u001b[49m\u001b[43m)\u001b[49m\u001b[43m)\u001b[49m\n",
      "Cell \u001b[0;32mIn[128], line 26\u001b[0m, in \u001b[0;36mmy_hadamard_transform\u001b[0;34m(qba, right)\u001b[0m\n\u001b[1;32m     24\u001b[0m \u001b[38;5;129m@QFunc\u001b[39m\n\u001b[1;32m     25\u001b[0m \u001b[38;5;28;01mdef\u001b[39;00m \u001b[38;5;21mmy_hadamard_transform\u001b[39m(qba: QArray[QNum], right:QParam[\u001b[38;5;28mint\u001b[39m]):\n\u001b[0;32m---> 26\u001b[0m     \u001b[43mmy_apply_to_all\u001b[49m\u001b[43m(\u001b[49m\u001b[38;5;28;43;01mlambda\u001b[39;49;00m\u001b[43m \u001b[49m\u001b[43mqb\u001b[49m\u001b[43m:\u001b[49m\u001b[43m \u001b[49m\u001b[43madd\u001b[49m\u001b[43m(\u001b[49m\u001b[43mqb\u001b[49m\u001b[43m,\u001b[49m\u001b[43mright\u001b[49m\u001b[43m)\u001b[49m\u001b[43m,\u001b[49m\u001b[43m \u001b[49m\u001b[43mqba\u001b[49m\u001b[43m)\u001b[49m\n",
      "File \u001b[0;32m~/conda/envs/cuquantum-23.10/lib/python3.10/site-packages/classiq/qmod/quantum_function.py:52\u001b[0m, in \u001b[0;36mQFunc.__call__\u001b[0;34m(self, *args, **kwargs)\u001b[0m\n\u001b[1;32m     51\u001b[0m \u001b[38;5;28;01mdef\u001b[39;00m \u001b[38;5;21m__call__\u001b[39m(\u001b[38;5;28mself\u001b[39m, \u001b[38;5;241m*\u001b[39margs: Any, \u001b[38;5;241m*\u001b[39m\u001b[38;5;241m*\u001b[39mkwargs: Any) \u001b[38;5;241m-\u001b[39m\u001b[38;5;241m>\u001b[39m \u001b[38;5;28;01mNone\u001b[39;00m:\n\u001b[0;32m---> 52\u001b[0m     \u001b[38;5;28;43msuper\u001b[39;49m\u001b[43m(\u001b[49m\u001b[43m)\u001b[49m\u001b[38;5;241;43m.\u001b[39;49m\u001b[38;5;21;43m__call__\u001b[39;49m\u001b[43m(\u001b[49m\u001b[38;5;241;43m*\u001b[39;49m\u001b[43margs\u001b[49m\u001b[43m,\u001b[49m\u001b[43m \u001b[49m\u001b[38;5;241;43m*\u001b[39;49m\u001b[38;5;241;43m*\u001b[39;49m\u001b[43mkwargs\u001b[49m\u001b[43m)\u001b[49m\n\u001b[1;32m     53\u001b[0m     \u001b[38;5;28mself\u001b[39m\u001b[38;5;241m.\u001b[39m_add_native_func_def()\n",
      "File \u001b[0;32m~/conda/envs/cuquantum-23.10/lib/python3.10/site-packages/classiq/qmod/quantum_callable.py:34\u001b[0m, in \u001b[0;36mQCallable.__call__\u001b[0;34m(self, *args, **kwargs)\u001b[0m\n\u001b[1;32m     31\u001b[0m \u001b[38;5;28;01mdef\u001b[39;00m \u001b[38;5;21m__call__\u001b[39m(\u001b[38;5;28mself\u001b[39m, \u001b[38;5;241m*\u001b[39margs: Any, \u001b[38;5;241m*\u001b[39m\u001b[38;5;241m*\u001b[39mkwargs: Any) \u001b[38;5;241m-\u001b[39m\u001b[38;5;241m>\u001b[39m \u001b[38;5;28;01mNone\u001b[39;00m:\n\u001b[1;32m     32\u001b[0m     \u001b[38;5;28;01massert\u001b[39;00m QCallable\u001b[38;5;241m.\u001b[39mCURRENT_EXPANDABLE \u001b[38;5;129;01mis\u001b[39;00m \u001b[38;5;129;01mnot\u001b[39;00m \u001b[38;5;28;01mNone\u001b[39;00m\n\u001b[1;32m     33\u001b[0m     QCallable\u001b[38;5;241m.\u001b[39mCURRENT_EXPANDABLE\u001b[38;5;241m.\u001b[39mappend_statement_to_body(\n\u001b[0;32m---> 34\u001b[0m         \u001b[38;5;28;43mself\u001b[39;49m\u001b[38;5;241;43m.\u001b[39;49m\u001b[43mcreate_quantum_function_call\u001b[49m\u001b[43m(\u001b[49m\u001b[38;5;241;43m*\u001b[39;49m\u001b[43margs\u001b[49m\u001b[43m,\u001b[49m\u001b[43m \u001b[49m\u001b[38;5;241;43m*\u001b[39;49m\u001b[38;5;241;43m*\u001b[39;49m\u001b[43mkwargs\u001b[49m\u001b[43m)\u001b[49m\n\u001b[1;32m     35\u001b[0m     )\n\u001b[1;32m     36\u001b[0m     \u001b[38;5;28;01mreturn\u001b[39;00m\n",
      "File \u001b[0;32m~/conda/envs/cuquantum-23.10/lib/python3.10/site-packages/classiq/qmod/quantum_expandable.py:101\u001b[0m, in \u001b[0;36mQExpandable.create_quantum_function_call\u001b[0;34m(self, *args, **kwargs)\u001b[0m\n\u001b[1;32m     98\u001b[0m \u001b[38;5;28;01mdef\u001b[39;00m \u001b[38;5;21mcreate_quantum_function_call\u001b[39m(\n\u001b[1;32m     99\u001b[0m     \u001b[38;5;28mself\u001b[39m, \u001b[38;5;241m*\u001b[39margs: Any, \u001b[38;5;241m*\u001b[39m\u001b[38;5;241m*\u001b[39mkwargs: Any\n\u001b[1;32m    100\u001b[0m ) \u001b[38;5;241m-\u001b[39m\u001b[38;5;241m>\u001b[39m QuantumFunctionCall:\n\u001b[0;32m--> 101\u001b[0m     \u001b[38;5;28;01mreturn\u001b[39;00m \u001b[43m_create_quantum_function_call\u001b[49m\u001b[43m(\u001b[49m\u001b[38;5;28;43mself\u001b[39;49m\u001b[38;5;241;43m.\u001b[39;49m\u001b[43mfunc_decl\u001b[49m\u001b[43m,\u001b[49m\u001b[43m \u001b[49m\u001b[38;5;241;43m*\u001b[39;49m\u001b[43margs\u001b[49m\u001b[43m,\u001b[49m\u001b[43m \u001b[49m\u001b[38;5;241;43m*\u001b[39;49m\u001b[38;5;241;43m*\u001b[39;49m\u001b[43mkwargs\u001b[49m\u001b[43m)\u001b[49m\n",
      "File \u001b[0;32m~/conda/envs/cuquantum-23.10/lib/python3.10/site-packages/classiq/qmod/quantum_expandable.py:211\u001b[0m, in \u001b[0;36m_create_quantum_function_call\u001b[0;34m(decl, *args, **kwargs)\u001b[0m\n\u001b[1;32m    209\u001b[0m arg_decls \u001b[38;5;241m=\u001b[39m decl\u001b[38;5;241m.\u001b[39mget_positional_arg_decls()\n\u001b[1;32m    210\u001b[0m arg_list \u001b[38;5;241m=\u001b[39m \u001b[38;5;28mlist\u001b[39m(args)\n\u001b[0;32m--> 211\u001b[0m prepared_args \u001b[38;5;241m=\u001b[39m \u001b[43m_prepare_args\u001b[49m\u001b[43m(\u001b[49m\u001b[43mdecl\u001b[49m\u001b[43m,\u001b[49m\u001b[43m \u001b[49m\u001b[43marg_list\u001b[49m\u001b[43m,\u001b[49m\u001b[43m \u001b[49m\u001b[43mkwargs\u001b[49m\u001b[43m)\u001b[49m\n\u001b[1;32m    213\u001b[0m \u001b[38;5;28;01mif\u001b[39;00m kwargs:\n\u001b[1;32m    214\u001b[0m     bad_kwarg \u001b[38;5;241m=\u001b[39m \u001b[38;5;28mnext\u001b[39m(\u001b[38;5;28miter\u001b[39m(kwargs))\n",
      "File \u001b[0;32m~/conda/envs/cuquantum-23.10/lib/python3.10/site-packages/classiq/qmod/quantum_expandable.py:201\u001b[0m, in \u001b[0;36m_prepare_args\u001b[0;34m(decl, arg_list, kwargs)\u001b[0m\n\u001b[1;32m    199\u001b[0m             error_message \u001b[38;5;241m+\u001b[39m\u001b[38;5;241m=\u001b[39m _get_operand_hint(decl, arg_decl)\n\u001b[1;32m    200\u001b[0m         \u001b[38;5;28;01mraise\u001b[39;00m ClassiqValueError(error_message)\n\u001b[0;32m--> 201\u001b[0m     result\u001b[38;5;241m.\u001b[39mappend(\u001b[43m_prepare_arg\u001b[49m\u001b[43m(\u001b[49m\u001b[43marg_decl\u001b[49m\u001b[43m,\u001b[49m\u001b[43m \u001b[49m\u001b[43marg\u001b[49m\u001b[43m)\u001b[49m)\n\u001b[1;32m    203\u001b[0m \u001b[38;5;28;01mreturn\u001b[39;00m result\n",
      "File \u001b[0;32m~/conda/envs/cuquantum-23.10/lib/python3.10/site-packages/classiq/qmod/quantum_expandable.py:155\u001b[0m, in \u001b[0;36m_prepare_arg\u001b[0;34m(arg_decl, val)\u001b[0m\n\u001b[1;32m    152\u001b[0m \u001b[38;5;28;01mif\u001b[39;00m \u001b[38;5;129;01mnot\u001b[39;00m \u001b[38;5;28misinstance\u001b[39m(val, QExpandable):\n\u001b[1;32m    153\u001b[0m     \u001b[38;5;28;01mreturn\u001b[39;00m val\u001b[38;5;241m.\u001b[39mfunc_decl\u001b[38;5;241m.\u001b[39mname\n\u001b[0;32m--> 155\u001b[0m \u001b[43mval\u001b[49m\u001b[38;5;241;43m.\u001b[39;49m\u001b[43mexpand\u001b[49m\u001b[43m(\u001b[49m\u001b[43m)\u001b[49m\n\u001b[1;32m    156\u001b[0m \u001b[38;5;28;01mreturn\u001b[39;00m QuantumLambdaFunction(\n\u001b[1;32m    157\u001b[0m     rename_params\u001b[38;5;241m=\u001b[39mval\u001b[38;5;241m.\u001b[39minfer_rename_params(), body\u001b[38;5;241m=\u001b[39mval\u001b[38;5;241m.\u001b[39mbody\n\u001b[1;32m    158\u001b[0m )\n",
      "File \u001b[0;32m~/conda/envs/cuquantum-23.10/lib/python3.10/site-packages/classiq/qmod/quantum_expandable.py:69\u001b[0m, in \u001b[0;36mQExpandable.expand\u001b[0;34m(self)\u001b[0m\n\u001b[1;32m     67\u001b[0m \u001b[38;5;28;01mdef\u001b[39;00m \u001b[38;5;21mexpand\u001b[39m(\u001b[38;5;28mself\u001b[39m) \u001b[38;5;241m-\u001b[39m\u001b[38;5;241m>\u001b[39m \u001b[38;5;28;01mNone\u001b[39;00m:\n\u001b[1;32m     68\u001b[0m     \u001b[38;5;28;01mwith\u001b[39;00m \u001b[38;5;28mself\u001b[39m:\n\u001b[0;32m---> 69\u001b[0m         \u001b[38;5;28;43mself\u001b[39;49m\u001b[38;5;241;43m.\u001b[39;49m\u001b[43m_py_callable\u001b[49m\u001b[43m(\u001b[49m\u001b[38;5;241;43m*\u001b[39;49m\u001b[38;5;28;43mself\u001b[39;49m\u001b[38;5;241;43m.\u001b[39;49m\u001b[43m_get_positional_args\u001b[49m\u001b[43m(\u001b[49m\u001b[43m)\u001b[49m\u001b[43m)\u001b[49m\n",
      "Cell \u001b[0;32mIn[128], line 26\u001b[0m, in \u001b[0;36mmy_hadamard_transform.<locals>.<lambda>\u001b[0;34m(qb)\u001b[0m\n\u001b[1;32m     24\u001b[0m \u001b[38;5;129m@QFunc\u001b[39m\n\u001b[1;32m     25\u001b[0m \u001b[38;5;28;01mdef\u001b[39;00m \u001b[38;5;21mmy_hadamard_transform\u001b[39m(qba: QArray[QNum], right:QParam[\u001b[38;5;28mint\u001b[39m]):\n\u001b[0;32m---> 26\u001b[0m     my_apply_to_all(\u001b[38;5;28;01mlambda\u001b[39;00m qb: \u001b[43madd\u001b[49m\u001b[43m(\u001b[49m\u001b[43mqb\u001b[49m\u001b[43m,\u001b[49m\u001b[43mright\u001b[49m\u001b[43m)\u001b[49m, qba)\n",
      "File \u001b[0;32m~/conda/envs/cuquantum-23.10/lib/python3.10/site-packages/classiq/qmod/quantum_callable.py:34\u001b[0m, in \u001b[0;36mQCallable.__call__\u001b[0;34m(self, *args, **kwargs)\u001b[0m\n\u001b[1;32m     31\u001b[0m \u001b[38;5;28;01mdef\u001b[39;00m \u001b[38;5;21m__call__\u001b[39m(\u001b[38;5;28mself\u001b[39m, \u001b[38;5;241m*\u001b[39margs: Any, \u001b[38;5;241m*\u001b[39m\u001b[38;5;241m*\u001b[39mkwargs: Any) \u001b[38;5;241m-\u001b[39m\u001b[38;5;241m>\u001b[39m \u001b[38;5;28;01mNone\u001b[39;00m:\n\u001b[1;32m     32\u001b[0m     \u001b[38;5;28;01massert\u001b[39;00m QCallable\u001b[38;5;241m.\u001b[39mCURRENT_EXPANDABLE \u001b[38;5;129;01mis\u001b[39;00m \u001b[38;5;129;01mnot\u001b[39;00m \u001b[38;5;28;01mNone\u001b[39;00m\n\u001b[1;32m     33\u001b[0m     QCallable\u001b[38;5;241m.\u001b[39mCURRENT_EXPANDABLE\u001b[38;5;241m.\u001b[39mappend_statement_to_body(\n\u001b[0;32m---> 34\u001b[0m         \u001b[38;5;28;43mself\u001b[39;49m\u001b[38;5;241;43m.\u001b[39;49m\u001b[43mcreate_quantum_function_call\u001b[49m\u001b[43m(\u001b[49m\u001b[38;5;241;43m*\u001b[39;49m\u001b[43margs\u001b[49m\u001b[43m,\u001b[49m\u001b[43m \u001b[49m\u001b[38;5;241;43m*\u001b[39;49m\u001b[38;5;241;43m*\u001b[39;49m\u001b[43mkwargs\u001b[49m\u001b[43m)\u001b[49m\n\u001b[1;32m     35\u001b[0m     )\n\u001b[1;32m     36\u001b[0m     \u001b[38;5;28;01mreturn\u001b[39;00m\n",
      "File \u001b[0;32m~/conda/envs/cuquantum-23.10/lib/python3.10/site-packages/classiq/qmod/quantum_expandable.py:140\u001b[0m, in \u001b[0;36mQTerminalCallable.create_quantum_function_call\u001b[0;34m(self, *args, **kwargs)\u001b[0m\n\u001b[1;32m    137\u001b[0m \u001b[38;5;28;01mdef\u001b[39;00m \u001b[38;5;21mcreate_quantum_function_call\u001b[39m(\n\u001b[1;32m    138\u001b[0m     \u001b[38;5;28mself\u001b[39m, \u001b[38;5;241m*\u001b[39margs: Any, \u001b[38;5;241m*\u001b[39m\u001b[38;5;241m*\u001b[39mkwargs: Any\n\u001b[1;32m    139\u001b[0m ) \u001b[38;5;241m-\u001b[39m\u001b[38;5;241m>\u001b[39m QuantumFunctionCall:\n\u001b[0;32m--> 140\u001b[0m     \u001b[38;5;28;01mreturn\u001b[39;00m \u001b[43m_create_quantum_function_call\u001b[49m\u001b[43m(\u001b[49m\u001b[38;5;28;43mself\u001b[39;49m\u001b[38;5;241;43m.\u001b[39;49m\u001b[43mfunc_decl\u001b[49m\u001b[43m,\u001b[49m\u001b[43m \u001b[49m\u001b[38;5;241;43m*\u001b[39;49m\u001b[43margs\u001b[49m\u001b[43m,\u001b[49m\u001b[43m \u001b[49m\u001b[38;5;241;43m*\u001b[39;49m\u001b[38;5;241;43m*\u001b[39;49m\u001b[43mkwargs\u001b[49m\u001b[43m)\u001b[49m\n",
      "File \u001b[0;32m~/conda/envs/cuquantum-23.10/lib/python3.10/site-packages/classiq/qmod/quantum_expandable.py:211\u001b[0m, in \u001b[0;36m_create_quantum_function_call\u001b[0;34m(decl, *args, **kwargs)\u001b[0m\n\u001b[1;32m    209\u001b[0m arg_decls \u001b[38;5;241m=\u001b[39m decl\u001b[38;5;241m.\u001b[39mget_positional_arg_decls()\n\u001b[1;32m    210\u001b[0m arg_list \u001b[38;5;241m=\u001b[39m \u001b[38;5;28mlist\u001b[39m(args)\n\u001b[0;32m--> 211\u001b[0m prepared_args \u001b[38;5;241m=\u001b[39m \u001b[43m_prepare_args\u001b[49m\u001b[43m(\u001b[49m\u001b[43mdecl\u001b[49m\u001b[43m,\u001b[49m\u001b[43m \u001b[49m\u001b[43marg_list\u001b[49m\u001b[43m,\u001b[49m\u001b[43m \u001b[49m\u001b[43mkwargs\u001b[49m\u001b[43m)\u001b[49m\n\u001b[1;32m    213\u001b[0m \u001b[38;5;28;01mif\u001b[39;00m kwargs:\n\u001b[1;32m    214\u001b[0m     bad_kwarg \u001b[38;5;241m=\u001b[39m \u001b[38;5;28mnext\u001b[39m(\u001b[38;5;28miter\u001b[39m(kwargs))\n",
      "File \u001b[0;32m~/conda/envs/cuquantum-23.10/lib/python3.10/site-packages/classiq/qmod/quantum_expandable.py:201\u001b[0m, in \u001b[0;36m_prepare_args\u001b[0;34m(decl, arg_list, kwargs)\u001b[0m\n\u001b[1;32m    199\u001b[0m             error_message \u001b[38;5;241m+\u001b[39m\u001b[38;5;241m=\u001b[39m _get_operand_hint(decl, arg_decl)\n\u001b[1;32m    200\u001b[0m         \u001b[38;5;28;01mraise\u001b[39;00m ClassiqValueError(error_message)\n\u001b[0;32m--> 201\u001b[0m     result\u001b[38;5;241m.\u001b[39mappend(\u001b[43m_prepare_arg\u001b[49m\u001b[43m(\u001b[49m\u001b[43marg_decl\u001b[49m\u001b[43m,\u001b[49m\u001b[43m \u001b[49m\u001b[43marg\u001b[49m\u001b[43m)\u001b[49m)\n\u001b[1;32m    203\u001b[0m \u001b[38;5;28;01mreturn\u001b[39;00m result\n",
      "File \u001b[0;32m~/conda/envs/cuquantum-23.10/lib/python3.10/site-packages/classiq/qmod/quantum_expandable.py:147\u001b[0m, in \u001b[0;36m_prepare_arg\u001b[0;34m(arg_decl, val)\u001b[0m\n\u001b[1;32m    145\u001b[0m     \u001b[38;5;28;01mreturn\u001b[39;00m Expression(expr\u001b[38;5;241m=\u001b[39m\u001b[38;5;28mstr\u001b[39m(val))\n\u001b[1;32m    146\u001b[0m \u001b[38;5;28;01melif\u001b[39;00m \u001b[38;5;28misinstance\u001b[39m(arg_decl, PortDeclaration):\n\u001b[0;32m--> 147\u001b[0m     \u001b[38;5;28;01mreturn\u001b[39;00m \u001b[43mval\u001b[49m\u001b[38;5;241;43m.\u001b[39;49m\u001b[43mget_handle_binding\u001b[49m()\n\u001b[1;32m    148\u001b[0m \u001b[38;5;28;01melse\u001b[39;00m:\n\u001b[1;32m    149\u001b[0m     \u001b[38;5;28;01mif\u001b[39;00m \u001b[38;5;129;01mnot\u001b[39;00m \u001b[38;5;28misinstance\u001b[39m(val, QCallable):\n",
      "\u001b[0;31mAttributeError\u001b[0m: 'QParamScalar' object has no attribute 'get_handle_binding'"
     ]
    }
   ],
   "source": [
    "from classiq import (\n",
    "    H,\n",
    "    QArray,\n",
    "    QBit,\n",
    "    QCallable,\n",
    "    QFunc,\n",
    "    allocate,\n",
    "    create_model,\n",
    "    repeat,\n",
    "    show,\n",
    "    add,\n",
    "    synthesize,\n",
    ")\n",
    "\n",
    "\n",
    "@QFunc\n",
    "def my_apply_to_all(my_operand: QCallable[QNum], qba: QArray[QNum]) -> None:\n",
    "    repeat(\n",
    "        count=qba.len(),\n",
    "        iteration=lambda index: my_operand(qba[index])\n",
    "    )\n",
    "\n",
    "\n",
    "@QFunc\n",
    "def my_hadamard_transform(qba: QArray[QNum], right:QParam[int]):\n",
    "    my_apply_to_all(lambda qb: add(qb,right), qba)\n",
    "\n",
    "\n",
    "@QFunc\n",
    "def main():\n",
    "    qba = QArray(\"qba\")\n",
    "    right = 3\n",
    "    allocate(4, qba)\n",
    "    my_hadamard_transform(qba,right)\n",
    "\n",
    "\n",
    "model = create_model(main)\n",
    "quantum_program = synthesize(model)\n",
    "show(quantum_program)"
   ]
  },
  {
   "cell_type": "code",
   "execution_count": 82,
   "metadata": {},
   "outputs": [],
   "source": [
    "qprog = synthesize(qmod)"
   ]
  },
  {
   "cell_type": "markdown",
   "metadata": {},
   "source": [
    "Let's execute the circuit from directly from the SDK:"
   ]
  },
  {
   "cell_type": "code",
   "execution_count": null,
   "metadata": {},
   "outputs": [],
   "source": [
    "job = execute(qprog)"
   ]
  },
  {
   "cell_type": "markdown",
   "metadata": {},
   "source": [
    "And we can view the results in the IDE:"
   ]
  },
  {
   "cell_type": "code",
   "execution_count": null,
   "metadata": {},
   "outputs": [],
   "source": [
    "job.open_in_ide()"
   ]
  },
  {
   "cell_type": "markdown",
   "metadata": {},
   "source": [
    "Or to directly analyze it within the SDK:"
   ]
  },
  {
   "cell_type": "code",
   "execution_count": null,
   "metadata": {},
   "outputs": [],
   "source": [
    "results = job.result()\n",
    "parsed_counts = results[0].value.parsed_counts\n",
    "for sampled_state in parsed_counts: print(sampled_state.state)"
   ]
  },
  {
   "cell_type": "markdown",
   "metadata": {},
   "source": [
    "Now it's your turn! Implement the same linear function, but now $x$ is in the domain $[0,1)$ and is represented by 4 qubits. The parameters $a,b$ should be now `float` with the values of: $a=0.5, b=1.5$."
   ]
  },
  {
   "cell_type": "code",
   "execution_count": null,
   "metadata": {},
   "outputs": [],
   "source": [
    "#TODO complete here"
   ]
  },
  {
   "cell_type": "markdown",
   "metadata": {},
   "source": [
    "## Tutorial - Two controlled Linear operations"
   ]
  },
  {
   "cell_type": "markdown",
   "metadata": {},
   "source": [
    "Let's say we want now to have two linear operations applied on the same quantum variable (register). But the arithmetic operation initialize a new quantum variable, so how can we do that? The answer is that we need to apply the operation to another variable and then XOR it to the variable we want. \n",
    "\n",
    "This can be useful if the linear operation we want to apply is controlled upon a control variable. Let's first define the functional building block:"
   ]
  },
  {
   "cell_type": "code",
   "execution_count": 10,
   "metadata": {},
   "outputs": [],
   "source": [
    "@QFunc\n",
    "def inplace_linear_attempt(a:QParam[int],b: QParam[int], x:QNum, y: QNum):\n",
    "    tmp = QNum('tmp')\n",
    "    linear_func(a,b,x,tmp)\n",
    "    inplace_xor(tmp,y)"
   ]
  },
  {
   "cell_type": "markdown",
   "metadata": {},
   "source": [
    "And checking our basic function implementation:"
   ]
  },
  {
   "cell_type": "code",
   "execution_count": 11,
   "metadata": {},
   "outputs": [
    {
     "name": "stdout",
     "output_type": "stream",
     "text": [
      "Opening: https://platform.classiq.io/circuit/6d0b2a8f-801e-444d-ad9d-34deb8a9095a?version=0.36.1\n"
     ]
    }
   ],
   "source": [
    "@QFunc\n",
    "def main(x: Output[QNum],y: Output[QNum]):\n",
    "    a = 1\n",
    "    b = 2\n",
    "\n",
    "    allocate_num(4,False,0,y)\n",
    "    allocate_num(4,False,0,x)\n",
    "    hadamard_transform(x)\n",
    "    inplace_linear_attempt(a,b,x,y)\n",
    "\n",
    "qmod = create_model(main)\n",
    "qprog = synthesize(qmod)\n",
    "show(qprog)"
   ]
  },
  {
   "cell_type": "markdown",
   "metadata": {},
   "source": [
    "OK, cool. So now we want to add a control qubit that controlled on the state $\\ket{0}$ implements the linear function $\\ket{x}\\rightarrow\\ket{x}\\ket{x+2}$ and controlled on the state $\\ket{1}$ implements the linear function $\\ket{x}\\rightarrow\\ket{x}\\ket{2x+1}$:"
   ]
  },
  {
   "cell_type": "code",
   "execution_count": 25,
   "metadata": {},
   "outputs": [],
   "source": [
    "@QFunc\n",
    "def control_logic(a: QParam[list[int]], b: QParam[list[int]], controller:QNum, x: QNum, y: QNum):\n",
    "    \n",
    "    repeat( count=a.len(),         \n",
    "            iteration=lambda i: quantum_if(controller==i, lambda: inplace_linear_attempt(a[i],b[i],x,y)))\n"
   ]
  },
  {
   "cell_type": "code",
   "execution_count": 26,
   "metadata": {},
   "outputs": [],
   "source": [
    "@QFunc\n",
    "def main(controller: Output[QNum], x: Output[QNum],y: Output[QNum]):\n",
    "\n",
    "    # Linear polynom parameters\n",
    "    a = [1,2]\n",
    "    b = [2,1]\n",
    "\n",
    "    # Initializing x to a superposition in the domain [0,2^4-1]\n",
    "    allocate_num(4,False,0,x)\n",
    "    hadamard_transform(x)\n",
    "    \n",
    "    #Initialize y\n",
    "    allocate_num(4,False,0,y)\n",
    "\n",
    "    # Setting the controller in a superposition\n",
    "    allocate_num(1,False,0,controller)\n",
    "    H(controller)\n",
    "\n",
    "    # Implementing the control logic\n",
    "    control_logic(a,b,controller,x,y)\n",
    "\n",
    "    \n",
    "qmod = create_model(main)"
   ]
  },
  {
   "cell_type": "code",
   "execution_count": null,
   "metadata": {},
   "outputs": [],
   "source": [
    "qprog = synthesize(qmod)\n",
    "show(qprog)"
   ]
  },
  {
   "cell_type": "markdown",
   "metadata": {},
   "source": [
    "By executing we can actually see we get what we want:"
   ]
  },
  {
   "cell_type": "code",
   "execution_count": 19,
   "metadata": {},
   "outputs": [
    {
     "name": "stdout",
     "output_type": "stream",
     "text": [
      "{'controller': 1.0, 'x': 4.0, 'y': 9.0}\n",
      "{'controller': 0.0, 'x': 12.0, 'y': 14.0}\n",
      "{'controller': 1.0, 'x': 12.0, 'y': 9.0}\n",
      "{'controller': 0.0, 'x': 15.0, 'y': 1.0}\n",
      "{'controller': 0.0, 'x': 1.0, 'y': 3.0}\n",
      "{'controller': 1.0, 'x': 3.0, 'y': 7.0}\n",
      "{'controller': 0.0, 'x': 3.0, 'y': 5.0}\n",
      "{'controller': 1.0, 'x': 2.0, 'y': 5.0}\n",
      "{'controller': 1.0, 'x': 8.0, 'y': 1.0}\n",
      "{'controller': 0.0, 'x': 8.0, 'y': 10.0}\n",
      "{'controller': 0.0, 'x': 14.0, 'y': 0.0}\n",
      "{'controller': 1.0, 'x': 9.0, 'y': 3.0}\n",
      "{'controller': 1.0, 'x': 7.0, 'y': 15.0}\n",
      "{'controller': 0.0, 'x': 11.0, 'y': 13.0}\n",
      "{'controller': 1.0, 'x': 13.0, 'y': 11.0}\n",
      "{'controller': 0.0, 'x': 2.0, 'y': 4.0}\n",
      "{'controller': 1.0, 'x': 6.0, 'y': 13.0}\n",
      "{'controller': 1.0, 'x': 11.0, 'y': 7.0}\n",
      "{'controller': 1.0, 'x': 1.0, 'y': 3.0}\n",
      "{'controller': 0.0, 'x': 6.0, 'y': 8.0}\n",
      "{'controller': 0.0, 'x': 5.0, 'y': 7.0}\n",
      "{'controller': 0.0, 'x': 4.0, 'y': 6.0}\n",
      "{'controller': 0.0, 'x': 0.0, 'y': 2.0}\n",
      "{'controller': 1.0, 'x': 5.0, 'y': 11.0}\n",
      "{'controller': 0.0, 'x': 13.0, 'y': 15.0}\n",
      "{'controller': 0.0, 'x': 9.0, 'y': 11.0}\n",
      "{'controller': 0.0, 'x': 7.0, 'y': 9.0}\n",
      "{'controller': 1.0, 'x': 14.0, 'y': 13.0}\n",
      "{'controller': 1.0, 'x': 0.0, 'y': 1.0}\n",
      "{'controller': 1.0, 'x': 15.0, 'y': 15.0}\n",
      "{'controller': 0.0, 'x': 10.0, 'y': 12.0}\n",
      "{'controller': 1.0, 'x': 10.0, 'y': 5.0}\n"
     ]
    }
   ],
   "source": [
    "def print_parsed_counts(job):\n",
    "    results = job.result()\n",
    "    parsed_counts = results[0].value.parsed_counts\n",
    "    for parsed_state in parsed_counts: print(parsed_state.state)\n",
    "\n",
    "job = execute(qprog)\n",
    "print_parsed_counts(job)"
   ]
  },
  {
   "cell_type": "markdown",
   "metadata": {},
   "source": [
    "Of course there is the issue of rounding and overflow - when one tries to represent $2*15+1=31$ with $4$ binary digits that's not possible (because the domain $[0,31]$ of integers is represented by at least 5 bits). See our [documentation](https://docs.classiq.io/latest/user-guide/platform/qmod/python/quantum-expressions/#inplace-arithmetic-operators) for further explanations.\n",
    "\n",
    "Let's try to use Classiq and optimize the circuit for minimal circuit width:"
   ]
  },
  {
   "cell_type": "code",
   "execution_count": 20,
   "metadata": {},
   "outputs": [
    {
     "name": "stdout",
     "output_type": "stream",
     "text": [
      "Synthesized circuit width: 20, depth: 688\n"
     ]
    }
   ],
   "source": [
    "def print_depth_width(quantum_program):\n",
    "    generated_circuit = GeneratedCircuit.parse_raw(quantum_program)\n",
    "    print(f\"Synthesized circuit width: {generated_circuit.data.width}, depth: {generated_circuit.transpiled_circuit.depth}\")\n",
    "\n",
    "qmod = set_constraints(qmod,Constraints(optimization_parameter='width'))\n",
    "qprog = synthesize(qmod)\n",
    "print_depth_width(qprog)"
   ]
  },
  {
   "cell_type": "markdown",
   "metadata": {},
   "source": [
    "And when optimizing for depth:"
   ]
  },
  {
   "cell_type": "code",
   "execution_count": 22,
   "metadata": {},
   "outputs": [
    {
     "name": "stdout",
     "output_type": "stream",
     "text": [
      "Synthesized circuit width: 32, depth: 398\n"
     ]
    }
   ],
   "source": [
    "qmod = set_constraints(qmod,Constraints(optimization_parameter='depth'))\n",
    "qprog = synthesize(qmod)\n",
    "print_depth_width(qprog)"
   ]
  },
  {
   "cell_type": "markdown",
   "metadata": {},
   "source": [
    "Firstly, we can see here a clear demonstration of the power of high-level functional design! The same algorithm with the same functionality was optimized once for depth and once for width and the result is 2 different circuits with different characteristics that implement the same functionality.\n",
    "\n",
    "Secondly, is this the best we can do? Obviously the Classiq synthesis engine is optimizing for us the algorithm quite good. But, can we change something with our functionality, with our algorithm to get more efficient circuits? \n",
    "\n",
    "If we go back to out `inplace_linear_attempt` function, we can see that we initialize a `tmp` variable that requires more qubits and is not used. For such scenarios we have the `within_apply`. This logic implements sort of $UVU^{\\dagger}$ and when temporary variables are outputs of $U$ and used only by $V$ they are uncomputed by $U^{\\dagger}$. Let's see for our example:"
   ]
  },
  {
   "cell_type": "code",
   "execution_count": 30,
   "metadata": {},
   "outputs": [],
   "source": [
    "@QFunc\n",
    "def inplace_linear_func(a:QParam[int],b: QParam[int], x:QNum, y: QNum):\n",
    "    tmp = QNum('tmp')\n",
    "    within_apply(compute= lambda: linear_func(a,b,x,tmp),\n",
    "                action= lambda: inplace_xor(tmp,y))"
   ]
  },
  {
   "cell_type": "markdown",
   "metadata": {},
   "source": [
    "With the new `control_logic`:"
   ]
  },
  {
   "cell_type": "code",
   "execution_count": 31,
   "metadata": {},
   "outputs": [],
   "source": [
    "@QFunc\n",
    "def control_logic_2(a: QParam[list[int]], b: QParam[list[int]], controller:QNum, x: QNum, y: QNum):\n",
    "    \n",
    "    repeat( count=a.len(),         \n",
    "            iteration=lambda i: quantum_if(controller==i, lambda: inplace_linear_func(a[i],b[i],x,y)))"
   ]
  },
  {
   "cell_type": "markdown",
   "metadata": {},
   "source": [
    "And when we put all together now:"
   ]
  },
  {
   "cell_type": "code",
   "execution_count": 32,
   "metadata": {},
   "outputs": [],
   "source": [
    "@QFunc\n",
    "def main(controller: Output[QNum], x: Output[QNum],y: Output[QNum]):\n",
    "\n",
    "    # Linear polynom parameters\n",
    "    a = [1,2]\n",
    "    b = [2,1]\n",
    "\n",
    "    # Initializing x to a superposition in the domain [0,2^4-1]\n",
    "    allocate_num(4,False,0,x)\n",
    "    hadamard_transform(x)\n",
    "    \n",
    "    #Initialize y\n",
    "    allocate_num(4,False,0,y)\n",
    "\n",
    "    # Setting the controller in a superposition\n",
    "    allocate_num(1,False,0,controller)\n",
    "    H(controller)\n",
    "\n",
    "    # Implementing the control logic\n",
    "    control_logic_2(a,b,controller,x,y)\n",
    "\n",
    "    \n",
    "qmod = create_model(main)"
   ]
  },
  {
   "cell_type": "code",
   "execution_count": 33,
   "metadata": {},
   "outputs": [],
   "source": [
    "qprog = synthesize(qmod)"
   ]
  },
  {
   "cell_type": "code",
   "execution_count": 34,
   "metadata": {},
   "outputs": [
    {
     "name": "stdout",
     "output_type": "stream",
     "text": [
      "Opening: https://platform.classiq.io/circuit/c5d18fda-ab8b-42b8-8373-4a57c49283db?version=0.36.1\n"
     ]
    }
   ],
   "source": [
    "show(qprog)"
   ]
  },
  {
   "cell_type": "markdown",
   "metadata": {},
   "source": [
    "And now when we optimize for width:"
   ]
  },
  {
   "cell_type": "code",
   "execution_count": 35,
   "metadata": {},
   "outputs": [
    {
     "name": "stdout",
     "output_type": "stream",
     "text": [
      "Synthesized circuit width: 16, depth: 244\n"
     ]
    }
   ],
   "source": [
    "qmod = set_constraints(qmod,Constraints(optimization_parameter='width'))\n",
    "qprog = synthesize(qmod)\n",
    "print_depth_width(qprog)"
   ]
  },
  {
   "cell_type": "markdown",
   "metadata": {},
   "source": [
    "And for depth:"
   ]
  },
  {
   "cell_type": "code",
   "execution_count": 36,
   "metadata": {},
   "outputs": [
    {
     "name": "stdout",
     "output_type": "stream",
     "text": [
      "Synthesized circuit width: 45, depth: 203\n"
     ]
    }
   ],
   "source": [
    "qmod = set_constraints(qmod,Constraints(optimization_parameter='depth'))\n",
    "qprog = synthesize(qmod)\n",
    "print_depth_width(qprog)"
   ]
  },
  {
   "cell_type": "markdown",
   "metadata": {},
   "source": [
    "So using the `within_apply` logic enabled us to reduce the optimal circuit implementation in terms of width from $20$ to $16$ and the optimal circuit depth from $398$ to $203$! I think both can be useful for you for the hackathon :) "
   ]
  },
  {
   "cell_type": "markdown",
   "metadata": {},
   "source": [
    "## Cheat Sheet"
   ]
  },
  {
   "cell_type": "markdown",
   "metadata": {},
   "source": [
    "### Initalizations"
   ]
  },
  {
   "cell_type": "code",
   "execution_count": null,
   "metadata": {},
   "outputs": [],
   "source": [
    "allocate(\n",
    "    num_qubits: QParam[int],\n",
    "    out: Output[QArray[QBit, Literal[\"num_qubits\"]]])\n",
    "    '''\n",
    "    x = QArray('x')\n",
    "    allocate(4,x)\n",
    "    '''\n",
    "\n",
    "allocate_num(\n",
    "    num_qubits: QParam[int],\n",
    "    is_signed: QParam[bool],\n",
    "    fraction_digits: QParam[int],\n",
    "    out: Output[QNum])\n",
    "'''\n",
    "x = QNum('x')\n",
    "allocate_num(4,False,4,x)\n",
    "'''"
   ]
  },
  {
   "cell_type": "markdown",
   "metadata": {},
   "source": [
    "### Operations"
   ]
  },
  {
   "cell_type": "code",
   "execution_count": null,
   "metadata": {},
   "outputs": [],
   "source": [
    "repeat(\n",
    "    count: QParam[int],\n",
    "    iteration: QCallable[QParam[int]],\n",
    ")\n",
    "'''\n",
    "x = QArray\n",
    "allocate(4,x)\n",
    "repeat(x.len(),lambda index: H(x))\n",
    "'''\n",
    "\n",
    "control(\n",
    "    operand: QCallable,\n",
    "    ctrl: QArray[QBit],\n",
    ") \n",
    "'''\n",
    "x = QArray('x')\n",
    "y = QArray('y')\n",
    "x = allocate(4,x)\n",
    "y = allocate(4,y)\n",
    "repeat(x.len(),lambda i: control(lambda: X(y[i]),x[i]))\n",
    "'''"
   ]
  }
 ],
 "metadata": {
  "kernelspec": {
   "display_name": "Python 3 (ipykernel)",
   "language": "python",
   "name": "python3"
  },
  "language_info": {
   "codemirror_mode": {
    "name": "ipython",
    "version": 3
   },
   "file_extension": ".py",
   "mimetype": "text/x-python",
   "name": "python",
   "nbconvert_exporter": "python",
   "pygments_lexer": "ipython3",
   "version": "3.10.13"
  },
  "vscode": {
   "interpreter": {
    "hash": "529b62266d4f537a408698cf820854c65fe877011c7661f0f70aa11c4383fddc"
   }
  }
 },
 "nbformat": 4,
 "nbformat_minor": 4
}
