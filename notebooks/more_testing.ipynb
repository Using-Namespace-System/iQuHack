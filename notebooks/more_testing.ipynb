{
 "cells": [
  {
   "cell_type": "code",
   "execution_count": null,
   "metadata": {},
   "outputs": [],
   "source": [
    "from classiq import *\n",
    "\n",
    "@QFunc\n",
    "def linear_func(x:QNum, y: Output[QNum]):\n",
    "    y |= 0.333*(x**3) +\n",
    "\n",
    "@QFunc\n",
    "def main(x:Output[QNum], y: Output[QNum]):\n",
    "\n",
    "    allocate_num(num_qubits=4,is_signed=False,fraction_digits=0,out=x)\n",
    "    hadamard_transform(x)\n",
    "    linear_func(x,y)\n",
    "\n",
    "qmod = create_model(main)"
   ]
  }
 ],
 "metadata": {
  "language_info": {
   "name": "python"
  }
 },
 "nbformat": 4,
 "nbformat_minor": 2
}
