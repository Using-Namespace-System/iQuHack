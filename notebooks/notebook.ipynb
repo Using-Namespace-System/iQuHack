{
 "cells": [
  {
   "cell_type": "code",
   "execution_count": 1,
   "metadata": {},
   "outputs": [
    {
     "name": "stdout",
     "output_type": "stream",
     "text": [
      "[1706985699.879725] [4cfc7a54d061:1121 :0]     ucp_context.c:1014 UCX  WARN  transports 'rc','gdr_copy' are not available, please use one or more of: cma, cuda, cuda_copy, cuda_ipc, mm, posix, self, shm, sm, sysv, tcp\n",
      "[1706985699.903607] [4cfc7a54d061:1121 :0]          parser.c:1908 UCX  WARN  unused env variable: UCX_IB_PCI_RELAXED_ORDERING (set UCX_WARN_UNUSED_ENV_VARS=n to suppress this warning)\n",
      "{'00000000000000000000': 488, '11111111111111111111': 536}\n",
      "backend: cusvaer_simulator_statevector\n"
     ]
    }
   ],
   "source": [
    "from qiskit import QuantumCircuit, transpile\n",
    "from qiskit import Aer\n",
    "\n",
    "def create_ghz_circuit(n_qubits):\n",
    "    circuit = QuantumCircuit(n_qubits)\n",
    "    circuit.h(0)\n",
    "    for qubit in range(n_qubits - 1):\n",
    "        circuit.cx(qubit, qubit + 1)\n",
    "    return circuit\n",
    "\n",
    "simulator = Aer.get_backend('aer_simulator_statevector')\n",
    "circuit = create_ghz_circuit(n_qubits=20)\n",
    "circuit.measure_all()\n",
    "circuit = transpile(circuit, simulator)\n",
    "job = simulator.run(circuit)\n",
    "result = job.result()\n",
    "\n",
    "print(result.get_counts())\n",
    "print(f'backend: {result.backend_name}')"
   ]
  },
  {
   "cell_type": "code",
   "execution_count": 2,
   "metadata": {},
   "outputs": [
    {
     "data": {
      "text/plain": [
       "('CPU', 'GPU')"
      ]
     },
     "execution_count": 2,
     "metadata": {},
     "output_type": "execute_result"
    }
   ],
   "source": [
    "\n",
    "\n",
    "simulator.available_devices()"
   ]
  },
  {
   "cell_type": "code",
   "execution_count": null,
   "metadata": {},
   "outputs": [],
   "source": []
  }
 ],
 "metadata": {
  "kernelspec": {
   "display_name": "base",
   "language": "python",
   "name": "python3"
  },
  "language_info": {
   "codemirror_mode": {
    "name": "ipython",
    "version": 3
   },
   "file_extension": ".py",
   "mimetype": "text/x-python",
   "name": "python",
   "nbconvert_exporter": "python",
   "pygments_lexer": "ipython3",
   "version": "3.10.13"
  }
 },
 "nbformat": 4,
 "nbformat_minor": 2
}
