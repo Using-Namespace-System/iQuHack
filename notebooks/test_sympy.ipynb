{
 "cells": [
  {
   "cell_type": "code",
   "execution_count": 88,
   "metadata": {},
   "outputs": [
    {
     "name": "stdout",
     "output_type": "stream",
     "text": [
      "Opening: https://platform.classiq.io/circuit/55a61598-42f6-40ab-8e1e-c1b59a51304d?version=0.36.1\n"
     ]
    }
   ],
   "source": [
    "from sympy import pi\n",
    "from classiq import RX, H, QBit, QCallable, QFunc, QParam, allocate, create_model, symbolic, Model\n",
    "\n",
    "model = Model()\n",
    "\n",
    "@QFunc\n",
    "def foo(\n",
    "    n: QParam[int],\n",
    "    my_operand: QCallable[QParam[float]],\n",
    "    qb: QBit,\n",
    ") -> None:\n",
    "    H(target=qb)\n",
    "    my_operand((float(pi) / n))\n",
    "\n",
    "\n",
    "@QFunc\n",
    "def main() -> None:\n",
    "    qb1 = QBit(\"qb1\")\n",
    "    qb2 = QBit(\"qb2\")\n",
    "    allocate(1, qb1)\n",
    "    allocate(1, qb2)\n",
    "    foo(n=4, my_operand=lambda t: RX(theta=t, target=qb1), qb=qb2)\n",
    "\n",
    "qmod = create_model(main)\n",
    "\n",
    "qprog= synthesize(qmod)\n",
    "show(qprog)"
   ]
  },
  {
   "cell_type": "code",
   "execution_count": 7,
   "metadata": {},
   "outputs": [
    {
     "name": "stdout",
     "output_type": "stream",
     "text": [
      "Opening: https://platform.classiq.io/circuit/28e3a4bd-7b8e-48a1-a4b3-f4b787c7889e?version=0.36.1\n"
     ]
    }
   ],
   "source": [
    "import sympy\n",
    "\n",
    "from classiq.builtin_functions.exponentiation import PauliOperator\n",
    "from classiq.builtin_functions import SuzukiTrotter\n",
    "from classiq.builtin_functions.suzuki_trotter import SuzukiParameters\n",
    "from classiq import Model, synthesize, show\n",
    "\n",
    "model = Model()\n",
    "x = sympy.Symbol(\"x\")\n",
    "y = sympy.Symbol(\"y\")\n",
    "trotter_params = SuzukiTrotter(\n",
    "    pauli_operator=PauliOperator(pauli_list=[(\"XXZ\", 1), (\"YXZ\", 0.5)]),\n",
    "    evolution_coefficient=(x + y) / 2,\n",
    "    suzuki_parameters=SuzukiParameters(order=1, repetitions=1),\n",
    ")\n",
    "model.SuzukiTrotter(trotter_params)\n",
    "qprog = synthesize(model.get_model())\n",
    "show(qprog)"
   ]
  },
  {
   "cell_type": "code",
   "execution_count": 101,
   "metadata": {},
   "outputs": [
    {
     "name": "stderr",
     "output_type": "stream",
     "text": [
      "/home/cuquantum/conda/envs/cuquantum-23.10/lib/python3.10/site-packages/sympy/core/function.py:297: SymPyDeprecationWarning: \n",
      "\n",
      "The string fallback in sympify() is deprecated.\n",
      "\n",
      "To explicitly convert the string form of an object, use\n",
      "sympify(str(obj)). To add define sympify behavior on custom\n",
      "objects, use sympy.core.sympify.converter or define obj._sympy_\n",
      "(see the sympify() docstring).\n",
      "\n",
      "sympify() performed the string fallback resulting in the following string:\n",
      "\n",
      "'2 * (b)'\n",
      "\n",
      "See https://docs.sympy.org/latest/explanation/active-deprecations.html#deprecated-sympify-string-fallback\n",
      "for details.\n",
      "\n",
      "This has been deprecated since SymPy version 1.6. It\n",
      "will be removed in a future version of SymPy.\n",
      "\n",
      "  args = list(map(sympify, args))\n"
     ]
    },
    {
     "name": "stdout",
     "output_type": "stream",
     "text": [
      "Opening: https://platform.classiq.io/circuit/ce1dc0a2-445a-42d0-aa42-75bf23e7fd0e?version=0.36.1\n"
     ]
    }
   ],
   "source": [
    "from sympy import factorial\n",
    "from classiq import RX, QBit, QFunc, allocate, invert, control, power, show, Output, QNum, within_apply, allocate_num, hadamard_transform, inplace_xor\n",
    "\n",
    "@QFunc\n",
    "def symbol_mul(b:QParam[float], x:QNum, output:Output[QNum]) -> None:\n",
    "    output|= b*x\n",
    "\n",
    "\n",
    "@QFunc\n",
    "def inplace_linear_attempt(b: QParam[int], x:QNum, y: QNum):\n",
    "    tmp = QNum('tmp')\n",
    "    symbol_mul(factorial((2*b)),x,tmp)\n",
    "    #symbol_mul(b,x,tmp)\n",
    "    inplace_xor(tmp,y)\n",
    "\n",
    "@QFunc\n",
    "def main(x: Output[QNum],y: Output[QNum]):\n",
    "\n",
    "    b = 2\n",
    "\n",
    "    allocate_num(4,False,0,y)\n",
    "    allocate_num(4,False,0,x)\n",
    "    hadamard_transform(x)\n",
    "    inplace_linear_attempt(b,x,y)\n",
    "qmod = create_model(main)\n",
    "\n",
    "qprog= synthesize(qmod)\n",
    "show(qprog)"
   ]
  },
  {
   "cell_type": "code",
   "execution_count": 70,
   "metadata": {},
   "outputs": [
    {
     "data": {
      "text/latex": [
       "$\\displaystyle b \\left(2 b\\right)!$"
      ],
      "text/plain": [
       "b*factorial(2*b)"
      ]
     },
     "execution_count": 70,
     "metadata": {},
     "output_type": "execute_result"
    }
   ],
   "source": [
    "import sympy\n",
    "from sympy.core.sympify import kernS\n",
    "b = sympy.Symbol(\"b\")\n",
    "exp = b*sympy.factorial(2*b)\n",
    "sympy.N(exp, 5)"
   ]
  },
  {
   "cell_type": "code",
   "execution_count": 80,
   "metadata": {},
   "outputs": [
    {
     "ename": "IllegalParamsError",
     "evalue": "Unsupported type hint '<class 'int'>' for argument 'a'.\nNote - QMOD functions can declare classical parameters using the type hint 'QParam'.\nIf you need further assistance, please reach out on our Community Slack channel at: https://short.classiq.io/join-slack\nIf the error persists feel free to open a ticket at: https://short.classiq.io/support",
     "output_type": "error",
     "traceback": [
      "\u001b[0;31m---------------------------------------------------------------------------\u001b[0m",
      "\u001b[0;31mIllegalParamsError\u001b[0m                        Traceback (most recent call last)",
      "Cell \u001b[0;32mIn[80], line 5\u001b[0m\n\u001b[1;32m      1\u001b[0m \u001b[38;5;28;01mimport\u001b[39;00m \u001b[38;5;21;01msympy\u001b[39;00m\n\u001b[1;32m      2\u001b[0m \u001b[38;5;28;01mfrom\u001b[39;00m \u001b[38;5;21;01mclassiq\u001b[39;00m \u001b[38;5;28;01mimport\u001b[39;00m RX, QBit, QFunc, allocate, invert, control, power, show\n\u001b[1;32m      4\u001b[0m \u001b[38;5;129;43m@QFunc\u001b[39;49m\n\u001b[0;32m----> 5\u001b[0m \u001b[38;5;28;43;01mdef\u001b[39;49;00m\u001b[43m \u001b[49m\u001b[38;5;21;43mfoo\u001b[39;49m\u001b[43m(\u001b[49m\u001b[43ma\u001b[49m\u001b[43m:\u001b[49m\u001b[38;5;28;43mint\u001b[39;49m\u001b[43m,\u001b[49m\u001b[43m \u001b[49m\u001b[43mqb\u001b[49m\u001b[43m:\u001b[49m\u001b[43m \u001b[49m\u001b[43mQBit\u001b[49m\u001b[43m)\u001b[49m\u001b[43m \u001b[49m\u001b[38;5;241;43m-\u001b[39;49m\u001b[38;5;241;43m>\u001b[39;49m\u001b[43m \u001b[49m\u001b[38;5;28;43;01mNone\u001b[39;49;00m\u001b[43m:\u001b[49m\n\u001b[1;32m      6\u001b[0m \u001b[43m    \u001b[49m\u001b[43mexp\u001b[49m\u001b[43m \u001b[49m\u001b[38;5;241;43m=\u001b[39;49m\u001b[43m \u001b[49m\u001b[43ma\u001b[49m\u001b[38;5;241;43m*\u001b[39;49m\u001b[43msympy\u001b[49m\u001b[38;5;241;43m.\u001b[39;49m\u001b[43mfactorial\u001b[49m\u001b[43m(\u001b[49m\u001b[38;5;241;43m2\u001b[39;49m\u001b[38;5;241;43m*\u001b[39;49m\u001b[43ma\u001b[49m\u001b[43m)\u001b[49m\n\u001b[1;32m      7\u001b[0m \u001b[43m    \u001b[49m\u001b[43mRX\u001b[49m\u001b[43m(\u001b[49m\u001b[43mexp\u001b[49m\u001b[43m,\u001b[49m\u001b[43m \u001b[49m\u001b[43mqb\u001b[49m\u001b[43m)\u001b[49m\n",
      "File \u001b[0;32m~/conda/envs/cuquantum-23.10/lib/python3.10/site-packages/classiq/qmod/quantum_function.py:40\u001b[0m, in \u001b[0;36mQFunc.__init__\u001b[0;34m(self, py_callable)\u001b[0m\n\u001b[1;32m     39\u001b[0m \u001b[38;5;28;01mdef\u001b[39;00m \u001b[38;5;21m__init__\u001b[39m(\u001b[38;5;28mself\u001b[39m, py_callable: Callable) \u001b[38;5;241m-\u001b[39m\u001b[38;5;241m>\u001b[39m \u001b[38;5;28;01mNone\u001b[39;00m:\n\u001b[0;32m---> 40\u001b[0m     \u001b[43m_validate_no_gen_params\u001b[49m\u001b[43m(\u001b[49m\u001b[43mpy_callable\u001b[49m\u001b[38;5;241;43m.\u001b[39;49m\u001b[38;5;18;43m__annotations__\u001b[39;49m\u001b[43m)\u001b[49m\n\u001b[1;32m     41\u001b[0m     \u001b[38;5;28msuper\u001b[39m()\u001b[38;5;241m.\u001b[39m\u001b[38;5;21m__init__\u001b[39m(py_callable)\n\u001b[1;32m     42\u001b[0m     functools\u001b[38;5;241m.\u001b[39mupdate_wrapper(\u001b[38;5;28mself\u001b[39m, py_callable)\n",
      "File \u001b[0;32m~/conda/envs/cuquantum-23.10/lib/python3.10/site-packages/classiq/qmod/quantum_function.py:123\u001b[0m, in \u001b[0;36m_validate_no_gen_params\u001b[0;34m(annotations)\u001b[0m\n\u001b[1;32m    112\u001b[0m _illegal_params \u001b[38;5;241m=\u001b[39m {\n\u001b[1;32m    113\u001b[0m     name: annotation\n\u001b[1;32m    114\u001b[0m     \u001b[38;5;28;01mfor\u001b[39;00m name, annotation \u001b[38;5;129;01min\u001b[39;00m annotations\u001b[38;5;241m.\u001b[39mitems()\n\u001b[0;32m   (...)\u001b[0m\n\u001b[1;32m    120\u001b[0m     )\n\u001b[1;32m    121\u001b[0m }\n\u001b[1;32m    122\u001b[0m \u001b[38;5;28;01mif\u001b[39;00m _illegal_params:\n\u001b[0;32m--> 123\u001b[0m     \u001b[38;5;28;01mraise\u001b[39;00m IllegalParamsError(\n\u001b[1;32m    124\u001b[0m         \u001b[38;5;124m\"\u001b[39m\u001b[38;5;130;01m\\n\u001b[39;00m\u001b[38;5;124m\"\u001b[39m\u001b[38;5;241m.\u001b[39mjoin(\n\u001b[1;32m    125\u001b[0m             ILLEGAL_PARAM_ERROR\u001b[38;5;241m.\u001b[39mformat(name\u001b[38;5;241m=\u001b[39mname, annotation\u001b[38;5;241m=\u001b[39mannotation)\n\u001b[1;32m    126\u001b[0m             \u001b[38;5;28;01mfor\u001b[39;00m name, annotation \u001b[38;5;129;01min\u001b[39;00m _illegal_params\u001b[38;5;241m.\u001b[39mitems()\n\u001b[1;32m    127\u001b[0m         )\n\u001b[1;32m    128\u001b[0m     )\n",
      "\u001b[0;31mIllegalParamsError\u001b[0m: Unsupported type hint '<class 'int'>' for argument 'a'.\nNote - QMOD functions can declare classical parameters using the type hint 'QParam'.\nIf you need further assistance, please reach out on our Community Slack channel at: https://short.classiq.io/join-slack\nIf the error persists feel free to open a ticket at: https://short.classiq.io/support"
     ]
    }
   ],
   "source": [
    "import sympy\n",
    "from classiq import RX, QBit, QFunc, allocate, invert, control, power, show\n",
    "\n",
    "@QFunc\n",
    "def foo(a:int, qb: QBit) -> None:\n",
    "    exp = a*sympy.factorial(2*a)\n",
    "    RX(exp, qb)\n",
    "\n",
    "\n",
    "@QFunc\n",
    "def main() -> None:\n",
    "    qb1 = QBit(\"qb1\")\n",
    "    qb2 = QBit(\"qb2\")\n",
    "    a = 2\n",
    "    allocate(1, qb1)\n",
    "    allocate(1, qb2)\n",
    "    invert(lambda: foo(a, qb1))\n",
    "    control(lambda: power(2, lambda: foo(a, qb2)), qb1)\n",
    "\n",
    "qmod = create_model(main)\n",
    "\n",
    "qprog= synthesize(qmod)\n",
    "show(qprog)"
   ]
  },
  {
   "cell_type": "code",
   "execution_count": null,
   "metadata": {},
   "outputs": [],
   "source": []
  }
 ],
 "metadata": {
  "kernelspec": {
   "display_name": "cuquantum-23.10",
   "language": "python",
   "name": "python3"
  },
  "language_info": {
   "codemirror_mode": {
    "name": "ipython",
    "version": 3
   },
   "file_extension": ".py",
   "mimetype": "text/x-python",
   "name": "python",
   "nbconvert_exporter": "python",
   "pygments_lexer": "ipython3",
   "version": "3.10.13"
  }
 },
 "nbformat": 4,
 "nbformat_minor": 2
}
