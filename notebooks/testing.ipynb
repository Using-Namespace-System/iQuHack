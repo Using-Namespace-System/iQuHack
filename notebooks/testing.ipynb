{
 "cells": [
  {
   "cell_type": "code",
   "execution_count": null,
   "metadata": {},
   "outputs": [],
   "source": [
    "from classiq import (\n",
    "    H,\n",
    "    QArray,\n",
    "    QBit,\n",
    "    QCallable,\n",
    "    QFunc,\n",
    "    allocate,\n",
    "    create_model,\n",
    "    repeat,\n",
    "    show,\n",
    "    synthesize,\n",
    ")\n",
    "\n",
    "\n",
    "@QFunc\n",
    "def my_apply_to_all(my_operand: QCallable[QBit], qba: QArray[QBit]) -> None:\n",
    "    repeat(\n",
    "        count=qba.len(),\n",
    "        iteration=lambda index: my_operand(qba[index]),\n",
    "    )\n",
    "\n",
    "\n",
    "@QFunc\n",
    "def my_hadamard_transform(qba: QArray[QBit]):\n",
    "    my_apply_to_all(lambda qb: H(qb), qba)\n",
    "\n",
    "\n",
    "@QFunc\n",
    "def main():\n",
    "    qba = QArray(\"qba\")\n",
    "    allocate(4, qba)\n",
    "    my_hadamard_transform(qba)\n",
    "\n",
    "\n",
    "model = create_model(main)\n",
    "quantum_program = synthesize(model)\n",
    "show(quantum_program)"
   ]
  },
  {
   "cell_type": "code",
   "execution_count": null,
   "metadata": {},
   "outputs": [],
   "source": [
    "from classiq import *\n",
    "\n",
    "@QFunc\n",
    "def shift_right(x:Input[QArray[QBit]], y:Output[QArray[QBit]]):\n",
    "    garbage = QArray('garbage')\n",
    "    split(1,x.len()-1,x,garbage,y)\n",
    "\n",
    "@QFunc\n",
    "def main(y:Output[QNum]):\n",
    "    x = QNum('x')\n",
    "    prepare_int(9,x) #9=1001\n",
    "    shift_right(x,y) #9>>1 = 100 = 4\n",
    "\n",
    "\n",
    "qmod = create_model(main)\n",
    "qprog= synthesize(qmod)\n",
    "show(qprog)"
   ]
  },
  {
   "cell_type": "code",
   "execution_count": null,
   "metadata": {},
   "outputs": [
    {
     "name": "stdout",
     "output_type": "stream",
     "text": [
      "Opening: https://platform.classiq.io/circuit/2208acef-9112-493c-9ff5-34060960f289?version=0.36.1\n"
     ]
    }
   ],
   "source": [
    "from sympy import pi\n",
    "from classiq import RX, H, QNum, QCallable, QFunc, QParam, allocate_num, create_model, show, synthesize\n",
    "\n",
    "\n",
    "@QFunc\n",
    "def my_operator(my_operand: QCallable[QParam[float], QNum]) -> None:\n",
    "    num = QNum(\"num\")\n",
    "    allocate_num(4,False,0,num)\n",
    "    my_operand(0.5, num)\n",
    "\n",
    "@QFunc\n",
    "def main() -> None:\n",
    "    def my_operand_func(t, v):\n",
    "        v = v + t\n",
    "\n",
    "    my_operator(my_operand_func)\n",
    "\n",
    "qmod = create_model(main)\n",
    "qprog= synthesize(qmod)\n",
    "show(qprog)"
   ]
  },
  {
   "cell_type": "code",
   "execution_count": null,
   "metadata": {},
   "outputs": [
    {
     "ename": "ValidationError",
     "evalue": "1 validation error for Model\n__root__\n  Handle 'target' was errored with \"At the end of the function, in port target is expected to be HandleState.INITIALIZED but it isn't\"\nHandle 'num' was errored with \"Trying to access handle 'num' as output but it is in incorrect state\"\nIf you need further assistance, please reach out on our Community Slack channel at: https://short.classiq.io/join-slack\nIf the error persists feel free to open a ticket at: https://short.classiq.io/support (type=value_error.classiqvalue; _raw_message=Handle 'target' was errored with \"At the end of the function, in port target is expected to be HandleState.INITIALIZED but it isn't\"\nHandle 'num' was errored with \"Trying to access handle 'num' as output but it is in incorrect state\")",
     "output_type": "error",
     "traceback": [
      "\u001b[0;31m---------------------------------------------------------------------------\u001b[0m",
      "\u001b[0;31mValidationError\u001b[0m                           Traceback (most recent call last)",
      "Cell \u001b[0;32mIn[48], line 53\u001b[0m\n\u001b[1;32m     50\u001b[0m     target \u001b[38;5;241m|\u001b[39m\u001b[38;5;241m=\u001b[39m x \u001b[38;5;241m*\u001b[39m \u001b[38;5;241m0\u001b[39m\n\u001b[1;32m     51\u001b[0m     calc_elements(x, target)\n\u001b[0;32m---> 53\u001b[0m qmod \u001b[38;5;241m=\u001b[39m \u001b[43mcreate_model\u001b[49m\u001b[43m(\u001b[49m\u001b[43mmain\u001b[49m\u001b[43m)\u001b[49m\n\u001b[1;32m     55\u001b[0m qprog\u001b[38;5;241m=\u001b[39m synthesize(qmod)\n\u001b[1;32m     56\u001b[0m show(qprog)\n",
      "File \u001b[0;32m~/conda/envs/cuquantum-23.10/lib/python3.10/site-packages/classiq/qmod/quantum_function.py:33\u001b[0m, in \u001b[0;36mcreate_model\u001b[0;34m(entry_point, constraints, execution_preferences, preferences)\u001b[0m\n\u001b[1;32m     27\u001b[0m \u001b[38;5;28;01mdef\u001b[39;00m \u001b[38;5;21mcreate_model\u001b[39m(\n\u001b[1;32m     28\u001b[0m     entry_point: \u001b[38;5;124m\"\u001b[39m\u001b[38;5;124mQFunc\u001b[39m\u001b[38;5;124m\"\u001b[39m,\n\u001b[1;32m     29\u001b[0m     constraints: Optional[Constraints] \u001b[38;5;241m=\u001b[39m \u001b[38;5;28;01mNone\u001b[39;00m,\n\u001b[1;32m     30\u001b[0m     execution_preferences: Optional[ExecutionPreferences] \u001b[38;5;241m=\u001b[39m \u001b[38;5;28;01mNone\u001b[39;00m,\n\u001b[1;32m     31\u001b[0m     preferences: Optional[Preferences] \u001b[38;5;241m=\u001b[39m \u001b[38;5;28;01mNone\u001b[39;00m,\n\u001b[1;32m     32\u001b[0m ) \u001b[38;5;241m-\u001b[39m\u001b[38;5;241m>\u001b[39m SerializedModel:\n\u001b[0;32m---> 33\u001b[0m     \u001b[38;5;28;01mreturn\u001b[39;00m \u001b[43mentry_point\u001b[49m\u001b[38;5;241;43m.\u001b[39;49m\u001b[43mcreate_model\u001b[49m\u001b[43m(\u001b[49m\n\u001b[1;32m     34\u001b[0m \u001b[43m        \u001b[49m\u001b[43mconstraints\u001b[49m\u001b[43m,\u001b[49m\u001b[43m \u001b[49m\u001b[43mexecution_preferences\u001b[49m\u001b[43m,\u001b[49m\u001b[43m \u001b[49m\u001b[43mpreferences\u001b[49m\n\u001b[1;32m     35\u001b[0m \u001b[43m    \u001b[49m\u001b[43m)\u001b[49m\u001b[38;5;241m.\u001b[39mget_model()\n",
      "File \u001b[0;32m~/conda/envs/cuquantum-23.10/lib/python3.10/site-packages/classiq/qmod/quantum_function.py:69\u001b[0m, in \u001b[0;36mQFunc.create_model\u001b[0;34m(self, constraints, execution_preferences, preferences)\u001b[0m\n\u001b[1;32m     63\u001b[0m \u001b[38;5;28mself\u001b[39m\u001b[38;5;241m.\u001b[39m_add_native_func_def()\n\u001b[1;32m     64\u001b[0m model_extra_settings: List[Tuple[\u001b[38;5;28mstr\u001b[39m, Any]] \u001b[38;5;241m=\u001b[39m [\n\u001b[1;32m     65\u001b[0m     (\u001b[38;5;124m\"\u001b[39m\u001b[38;5;124mconstraints\u001b[39m\u001b[38;5;124m\"\u001b[39m, constraints),\n\u001b[1;32m     66\u001b[0m     (\u001b[38;5;124m\"\u001b[39m\u001b[38;5;124mexecution_preferences\u001b[39m\u001b[38;5;124m\"\u001b[39m, execution_preferences),\n\u001b[1;32m     67\u001b[0m     (\u001b[38;5;124m\"\u001b[39m\u001b[38;5;124mpreferences\u001b[39m\u001b[38;5;124m\"\u001b[39m, preferences),\n\u001b[1;32m     68\u001b[0m ]\n\u001b[0;32m---> 69\u001b[0m \u001b[38;5;28;01mreturn\u001b[39;00m \u001b[43mModel\u001b[49m\u001b[43m(\u001b[49m\n\u001b[1;32m     70\u001b[0m \u001b[43m    \u001b[49m\u001b[43mfunctions\u001b[49m\u001b[38;5;241;43m=\u001b[39;49m\u001b[38;5;28;43mlist\u001b[39;49m\u001b[43m(\u001b[49m\u001b[38;5;28;43mself\u001b[39;49m\u001b[38;5;241;43m.\u001b[39;49m\u001b[43m_qmodule\u001b[49m\u001b[38;5;241;43m.\u001b[39;49m\u001b[43mnative_defs\u001b[49m\u001b[38;5;241;43m.\u001b[39;49m\u001b[43mvalues\u001b[49m\u001b[43m(\u001b[49m\u001b[43m)\u001b[49m\u001b[43m)\u001b[49m\u001b[43m,\u001b[49m\n\u001b[1;32m     71\u001b[0m \u001b[43m    \u001b[49m\u001b[43mtypes\u001b[49m\u001b[38;5;241;43m=\u001b[39;49m\u001b[38;5;28;43mlist\u001b[39;49m\u001b[43m(\u001b[49m\u001b[38;5;28;43mself\u001b[39;49m\u001b[38;5;241;43m.\u001b[39;49m\u001b[43m_qmodule\u001b[49m\u001b[38;5;241;43m.\u001b[39;49m\u001b[43mtype_decls\u001b[49m\u001b[38;5;241;43m.\u001b[39;49m\u001b[43mvalues\u001b[49m\u001b[43m(\u001b[49m\u001b[43m)\u001b[49m\u001b[43m)\u001b[49m\u001b[43m,\u001b[49m\n\u001b[1;32m     72\u001b[0m \u001b[43m    \u001b[49m\u001b[38;5;241;43m*\u001b[39;49m\u001b[38;5;241;43m*\u001b[39;49m\u001b[43m{\u001b[49m\u001b[43mkey\u001b[49m\u001b[43m:\u001b[49m\u001b[43m \u001b[49m\u001b[43mvalue\u001b[49m\u001b[43m \u001b[49m\u001b[38;5;28;43;01mfor\u001b[39;49;00m\u001b[43m \u001b[49m\u001b[43mkey\u001b[49m\u001b[43m,\u001b[49m\u001b[43m \u001b[49m\u001b[43mvalue\u001b[49m\u001b[43m \u001b[49m\u001b[38;5;129;43;01min\u001b[39;49;00m\u001b[43m \u001b[49m\u001b[43mmodel_extra_settings\u001b[49m\u001b[43m \u001b[49m\u001b[38;5;28;43;01mif\u001b[39;49;00m\u001b[43m \u001b[49m\u001b[43mvalue\u001b[49m\u001b[43m}\u001b[49m\u001b[43m,\u001b[49m\n\u001b[1;32m     73\u001b[0m \u001b[43m\u001b[49m\u001b[43m)\u001b[49m\n",
      "File \u001b[0;32m~/conda/envs/cuquantum-23.10/lib/python3.10/site-packages/pydantic/main.py:341\u001b[0m, in \u001b[0;36mpydantic.main.BaseModel.__init__\u001b[0;34m()\u001b[0m\n",
      "\u001b[0;31mValidationError\u001b[0m: 1 validation error for Model\n__root__\n  Handle 'target' was errored with \"At the end of the function, in port target is expected to be HandleState.INITIALIZED but it isn't\"\nHandle 'num' was errored with \"Trying to access handle 'num' as output but it is in incorrect state\"\nIf you need further assistance, please reach out on our Community Slack channel at: https://short.classiq.io/join-slack\nIf the error persists feel free to open a ticket at: https://short.classiq.io/support (type=value_error.classiqvalue; _raw_message=Handle 'target' was errored with \"At the end of the function, in port target is expected to be HandleState.INITIALIZED but it isn't\"\nHandle 'num' was errored with \"Trying to access handle 'num' as output but it is in incorrect state\")"
     ]
    }
   ],
   "source": [
    "from classiq import (\n",
    "    QNum,\n",
    "    QCallable, \n",
    "    QFunc, \n",
    "    QParam, \n",
    "    allocate_num, \n",
    "    create_model, \n",
    "    show, \n",
    "    synthesize, \n",
    "    QArray, \n",
    "    Output, \n",
    "    hadamard_transform, \n",
    "    repeat, \n",
    "    control,\n",
    "    inplace_add,\n",
    "    factorial,\n",
    "    bernoulli,\n",
    "    power\n",
    ")\n",
    "\n",
    "precision = 4\n",
    "\n",
    "\n",
    "\n",
    "@QFunc\n",
    "def calc_element(\n",
    "    n: QParam[int], x:QNum, num: Output[QNum]\n",
    "    \n",
    ") -> None:\n",
    "    num |= ((2**(2*n))*(2**(2*n)-1)*bernoulli(2*n)*(x**((2*n)-1)))/factorial(2*n)\n",
    "\n",
    "@QFunc\n",
    "def inplace_calc_element(\n",
    "    n: QParam[int], x:QNum, target: Output[QNum]\n",
    "    \n",
    ") -> None:\n",
    "    tmp = QNum('tmp')\n",
    "    within_apply(compute= lambda: calc_element(n,x,tmp),\n",
    "                action= lambda: inplace_add(tmp,target))\n",
    "\n",
    "\n",
    "@QFunc\n",
    "def calc_elements(\n",
    "    x : QNum, target: Output[QNum]\n",
    ") -> None:\n",
    "\n",
    "    repeat(\n",
    "        count=precision,\n",
    "        iteration=lambda index: element_numerator(index,x,target)\n",
    "        )\n",
    "\n",
    "@QFunc\n",
    "def main(x:Output[QNum], target: Output[QNum]) -> None:\n",
    "    allocate_num(num_qubits=precision, is_signed=False, fraction_digits=precision,out=x)\n",
    "    hadamard_transform(x)\n",
    "    calc_elements(x, target)\n",
    "\n",
    "qmod = create_model(main)\n",
    "\n",
    "qprog= synthesize(qmod)\n",
    "show(qprog)"
   ]
  },
  {
   "cell_type": "code",
   "execution_count": null,
   "metadata": {},
   "outputs": [
    {
     "name": "stdout",
     "output_type": "stream",
     "text": [
      "Opening: https://platform.classiq.io/circuit/098aa64e-2d6c-4c77-b1fb-a1a2749af0e7?version=0.36.1\n"
     ]
    }
   ],
   "source": [
    "from classiq import Model, RegisterUserInput, synthesize, show\n",
    "from classiq.builtin_functions import Arithmetic\n",
    "\n",
    "expression = \"a*b==c\"\n",
    "definitions = dict(a=RegisterUserInput(size=5), b=RegisterUserInput(size=5),c=RegisterUserInput(size=5))\n",
    "oracle_params = Arithmetic(expression=expression, definitions=definitions)\n",
    "model = Model()\n",
    "model.Arithmetic(oracle_params)\n",
    "quantum_program = synthesize(model.get_model())\n",
    "show(quantum_program)"
   ]
  },
  {
   "cell_type": "code",
   "execution_count": null,
   "metadata": {},
   "outputs": [
    {
     "name": "stdout",
     "output_type": "stream",
     "text": [
      "Opening: https://platform.classiq.io/circuit/d47c5ed7-121f-4bd9-9670-3a37286cc5e8?version=0.36.1\n"
     ]
    }
   ],
   "source": [
    "from classiq import H, Output, QArray, QFunc, QNum, allocate, bind, repeat, invert\n",
    "\n",
    "\n",
    "@QFunc\n",
    "def roll_d8(res: Output[QNum]) -> None:\n",
    "    d8 = QArray(\"d8\")\n",
    "    allocate(3, d8)\n",
    "    repeat(3, lambda i: H(d8[i]))\n",
    "    bind(d8, res)  # res <- d8\n",
    "    invert(operand=lambda:bind(d8,res))\n",
    "\n",
    "    \n",
    "qmod = create_model(roll_d8)\n",
    "\n",
    "qprog= synthesize(qmod)\n",
    "show(qprog)"
   ]
  },
  {
   "cell_type": "code",
   "execution_count": null,
   "metadata": {},
   "outputs": [],
   "source": []
  }
 ],
 "metadata": {
  "kernelspec": {
   "display_name": "cuquantum-23.10",
   "language": "python",
   "name": "python3"
  },
  "language_info": {
   "codemirror_mode": {
    "name": "ipython",
    "version": 3
   },
   "file_extension": ".py",
   "mimetype": "text/x-python",
   "name": "python",
   "nbconvert_exporter": "python",
   "pygments_lexer": "ipython3",
   "version": "3.10.13"
  }
 },
 "nbformat": 4,
 "nbformat_minor": 2
}
